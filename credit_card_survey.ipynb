{
  "nbformat": 4,
  "nbformat_minor": 0,
  "metadata": {
    "colab": {
      "name": "credit_card_survey.ipynb",
      "provenance": [],
      "toc_visible": true,
      "mount_file_id": "1UEVQfBF64z8Xck1Vn0EDbDqLJddY7y2t",
      "authorship_tag": "ABX9TyOytA8UvUEq2IeHvkgykIF+",
      "include_colab_link": true
    },
    "kernelspec": {
      "name": "python3",
      "display_name": "Python 3"
    },
    "language_info": {
      "name": "python"
    }
  },
  "cells": [
    {
      "cell_type": "markdown",
      "metadata": {
        "id": "view-in-github",
        "colab_type": "text"
      },
      "source": [
        "<a href=\"https://colab.research.google.com/github/AgustinBustos/creditCardSurvey/blob/main/credit_card_survey.ipynb\" target=\"_parent\"><img src=\"https://colab.research.google.com/assets/colab-badge.svg\" alt=\"Open In Colab\"/></a>"
      ]
    },
    {
      "cell_type": "markdown",
      "source": [
        "### pre proccess"
      ],
      "metadata": {
        "id": "qmKgp_ihSp4V"
      }
    },
    {
      "cell_type": "code",
      "execution_count": 1,
      "metadata": {
        "id": "09bB5Jd6SPAI"
      },
      "outputs": [],
      "source": [
        "import pandas as pd\n",
        "import plotly.express as px\n",
        "import numpy as np\n",
        "\n",
        "cGrad=px.colors.sequential.algae"
      ]
    },
    {
      "cell_type": "code",
      "source": [
        "df=pd.read_excel('https://github.com/AgustinBustos/creditCardSurvey/blob/ab5676298a45bc2e78b7930d5cf1f1b600bf7b95/Test%20-%20Matrix.xlsm?raw=True',index_col=[0,1])\n",
        "df1=df[1:]\n",
        "df1.reset_index(inplace=True)\n"
      ],
      "metadata": {
        "id": "BWuGOFl5SWny"
      },
      "execution_count": 2,
      "outputs": []
    },
    {
      "cell_type": "code",
      "source": [
        "df1['usualDebt']=np.nan\n",
        "df1.loc[df1['Q03']=='Zero','usualDebt']=0\n",
        "df1.loc[df1['Q03']=='Less than $500','usualDebt']=0.25\n",
        "df1.loc[df1['Q03']=='$501 to $1,000','usualDebt']=0.75\n",
        "df1.loc[df1['Q03']=='$1,001 to $2,000','usualDebt']=1.5\n",
        "df1.loc[df1['Q03']=='$2,001 to $3,000','usualDebt']=2.5\n",
        "df1.loc[df1['Q03']=='$3,001 to $4,000','usualDebt']=3.5\n",
        "df1.loc[df1['Q03']=='$4,001 to $5,000','usualDebt']=4.5\n",
        "df1.loc[df1['Q03']=='$5,001 to $7,000','usualDebt']=6\n",
        "df1.loc[df1['Q03']=='$7,001 to $10,000','usualDebt']=8.5\n",
        "df1.loc[df1['Q03']=='More than $10,000','usualDebt']=11\n",
        "\n"
      ],
      "metadata": {
        "colab": {
          "base_uri": "https://localhost:8080/"
        },
        "outputId": "098642dd-5da1-452b-93d9-ed7c272647bd",
        "id": "iQWgWZkK-188"
      },
      "execution_count": 3,
      "outputs": [
        {
          "output_type": "stream",
          "name": "stderr",
          "text": [
            "/usr/local/lib/python3.7/dist-packages/ipykernel_launcher.py:1: SettingWithCopyWarning: \n",
            "A value is trying to be set on a copy of a slice from a DataFrame.\n",
            "Try using .loc[row_indexer,col_indexer] = value instead\n",
            "\n",
            "See the caveats in the documentation: https://pandas.pydata.org/pandas-docs/stable/user_guide/indexing.html#returning-a-view-versus-a-copy\n",
            "  \"\"\"Entry point for launching an IPython kernel.\n",
            "/usr/local/lib/python3.7/dist-packages/pandas/core/indexing.py:1817: SettingWithCopyWarning: \n",
            "A value is trying to be set on a copy of a slice from a DataFrame.\n",
            "Try using .loc[row_indexer,col_indexer] = value instead\n",
            "\n",
            "See the caveats in the documentation: https://pandas.pydata.org/pandas-docs/stable/user_guide/indexing.html#returning-a-view-versus-a-copy\n",
            "  self._setitem_single_column(loc, value, pi)\n"
          ]
        }
      ]
    },
    {
      "cell_type": "code",
      "source": [
        "df1['income']=np.nan\n",
        "df1.loc[df1['D11']=='Below $25,000','income']=2\n",
        "df1.loc[df1['D11']=='Between $25,000 and $49,999','income']=3.75\n",
        "df1.loc[df1['D11']=='Between $50,000 and $74,999','income']=6.25\n",
        "df1.loc[df1['D11']=='Between $75,000 and $99,999','income']=8.75\n",
        "df1.loc[df1['D11']=='More than $100,000','income']=11\n",
        "\n"
      ],
      "metadata": {
        "colab": {
          "base_uri": "https://localhost:8080/"
        },
        "outputId": "33b650a2-ec92-49a4-b023-71a7ed59b8d8",
        "id": "YAxNS5sy_W3B"
      },
      "execution_count": 4,
      "outputs": [
        {
          "output_type": "stream",
          "name": "stderr",
          "text": [
            "/usr/local/lib/python3.7/dist-packages/ipykernel_launcher.py:1: SettingWithCopyWarning: \n",
            "A value is trying to be set on a copy of a slice from a DataFrame.\n",
            "Try using .loc[row_indexer,col_indexer] = value instead\n",
            "\n",
            "See the caveats in the documentation: https://pandas.pydata.org/pandas-docs/stable/user_guide/indexing.html#returning-a-view-versus-a-copy\n",
            "  \"\"\"Entry point for launching an IPython kernel.\n",
            "/usr/local/lib/python3.7/dist-packages/pandas/core/indexing.py:1817: SettingWithCopyWarning: \n",
            "A value is trying to be set on a copy of a slice from a DataFrame.\n",
            "Try using .loc[row_indexer,col_indexer] = value instead\n",
            "\n",
            "See the caveats in the documentation: https://pandas.pydata.org/pandas-docs/stable/user_guide/indexing.html#returning-a-view-versus-a-copy\n",
            "  self._setitem_single_column(loc, value, pi)\n"
          ]
        }
      ]
    },
    {
      "cell_type": "code",
      "source": [
        "df1['monthIncome']=(df1['income']*10000)/12\n",
        "df1['monthDebt']=df1['usualDebt']*1000\n",
        "df1['debt/income']=df1['monthDebt']/df1['monthIncome']"
      ],
      "metadata": {
        "colab": {
          "base_uri": "https://localhost:8080/"
        },
        "id": "-_STOuLVDymn",
        "outputId": "844561ce-da0e-4550-fea6-4aba15d68e46"
      },
      "execution_count": 5,
      "outputs": [
        {
          "output_type": "stream",
          "name": "stderr",
          "text": [
            "/usr/local/lib/python3.7/dist-packages/ipykernel_launcher.py:1: SettingWithCopyWarning: \n",
            "A value is trying to be set on a copy of a slice from a DataFrame.\n",
            "Try using .loc[row_indexer,col_indexer] = value instead\n",
            "\n",
            "See the caveats in the documentation: https://pandas.pydata.org/pandas-docs/stable/user_guide/indexing.html#returning-a-view-versus-a-copy\n",
            "  \"\"\"Entry point for launching an IPython kernel.\n",
            "/usr/local/lib/python3.7/dist-packages/ipykernel_launcher.py:2: SettingWithCopyWarning: \n",
            "A value is trying to be set on a copy of a slice from a DataFrame.\n",
            "Try using .loc[row_indexer,col_indexer] = value instead\n",
            "\n",
            "See the caveats in the documentation: https://pandas.pydata.org/pandas-docs/stable/user_guide/indexing.html#returning-a-view-versus-a-copy\n",
            "  \n",
            "/usr/local/lib/python3.7/dist-packages/ipykernel_launcher.py:3: SettingWithCopyWarning: \n",
            "A value is trying to be set on a copy of a slice from a DataFrame.\n",
            "Try using .loc[row_indexer,col_indexer] = value instead\n",
            "\n",
            "See the caveats in the documentation: https://pandas.pydata.org/pandas-docs/stable/user_guide/indexing.html#returning-a-view-versus-a-copy\n",
            "  This is separate from the ipykernel package so we can avoid doing imports until\n"
          ]
        }
      ]
    },
    {
      "cell_type": "code",
      "source": [
        "df2=df1.copy()\n",
        "df2.loc[df2['Q01_3']==0,'Q01_3']='Non User'\n",
        "df2.loc[df2['Q01_3']=='Non User','Q03']='Non User'\n",
        "df2['monthly_income']=df2['income']*(10000/12)\n",
        "tograph=df2[['Q01_3', 'Q03','weight','monthly_income']]\n",
        "tograph.loc[tograph['monthly_income'].isnull(),'monthly_income']=2000\n",
        "tograph.dropna(inplace=True)\n",
        "\n"
      ],
      "metadata": {
        "colab": {
          "base_uri": "https://localhost:8080/"
        },
        "id": "2zNbj19VDCKt",
        "outputId": "71522446-ca61-4c9c-f634-49d73d13429a"
      },
      "execution_count": 6,
      "outputs": [
        {
          "output_type": "stream",
          "name": "stderr",
          "text": [
            "/usr/local/lib/python3.7/dist-packages/pandas/core/indexing.py:1817: SettingWithCopyWarning: \n",
            "A value is trying to be set on a copy of a slice from a DataFrame.\n",
            "Try using .loc[row_indexer,col_indexer] = value instead\n",
            "\n",
            "See the caveats in the documentation: https://pandas.pydata.org/pandas-docs/stable/user_guide/indexing.html#returning-a-view-versus-a-copy\n",
            "  self._setitem_single_column(loc, value, pi)\n",
            "/usr/local/lib/python3.7/dist-packages/pandas/util/_decorators.py:311: SettingWithCopyWarning: \n",
            "A value is trying to be set on a copy of a slice from a DataFrame\n",
            "\n",
            "See the caveats in the documentation: https://pandas.pydata.org/pandas-docs/stable/user_guide/indexing.html#returning-a-view-versus-a-copy\n",
            "  return func(*args, **kwargs)\n"
          ]
        }
      ]
    },
    {
      "cell_type": "code",
      "source": [
        "tograph=df2[['Q01_3', 'Q03','weight','D11','monthly_income','debt/income']]\n",
        "tograph.loc[tograph['monthly_income'].isnull(),'monthly_income']=2000\n",
        "tograph.loc[tograph['debt/income'].isnull(),'debt/income']=0\n",
        "tograph.loc[tograph['D11'].isnull(),'D11']='No Info'\n",
        "tograph.dropna(inplace=True)\n"
      ],
      "metadata": {
        "colab": {
          "base_uri": "https://localhost:8080/"
        },
        "id": "aZIElRpgJZgZ",
        "outputId": "e2cf78be-3ab6-4b1c-885a-18fcd52574aa"
      },
      "execution_count": 7,
      "outputs": [
        {
          "output_type": "stream",
          "name": "stderr",
          "text": [
            "/usr/local/lib/python3.7/dist-packages/pandas/core/indexing.py:1817: SettingWithCopyWarning: \n",
            "A value is trying to be set on a copy of a slice from a DataFrame.\n",
            "Try using .loc[row_indexer,col_indexer] = value instead\n",
            "\n",
            "See the caveats in the documentation: https://pandas.pydata.org/pandas-docs/stable/user_guide/indexing.html#returning-a-view-versus-a-copy\n",
            "  self._setitem_single_column(loc, value, pi)\n",
            "/usr/local/lib/python3.7/dist-packages/pandas/util/_decorators.py:311: SettingWithCopyWarning: \n",
            "A value is trying to be set on a copy of a slice from a DataFrame\n",
            "\n",
            "See the caveats in the documentation: https://pandas.pydata.org/pandas-docs/stable/user_guide/indexing.html#returning-a-view-versus-a-copy\n",
            "  return func(*args, **kwargs)\n"
          ]
        }
      ]
    },
    {
      "cell_type": "code",
      "source": [
        "\n",
        "tograph['middle']='Zero'\n",
        "tograph.loc[tograph['Q03'].isin(['Less than $500','$501 to $1,000','$1,001 to $2,000']),'middle']='less than $2000'\n",
        "tograph.loc[tograph['Q03'].isin(['$2,001 to $3,000','$3,001 to $4,000','$4,001 to $5,000']),'middle']='between $2001 and $5,000'\n",
        "tograph.loc[tograph['Q03'].isin(['$5,001 to $7,000','$7,001 to $10,000','More than $10,000']),'middle']='more than $5,001'\n",
        "\n"
      ],
      "metadata": {
        "colab": {
          "base_uri": "https://localhost:8080/"
        },
        "id": "4_sbp77OSfIc",
        "outputId": "f834c544-93bb-44fb-f74b-3f7a0757f8a6"
      },
      "execution_count": 8,
      "outputs": [
        {
          "output_type": "stream",
          "name": "stderr",
          "text": [
            "/usr/local/lib/python3.7/dist-packages/ipykernel_launcher.py:2: SettingWithCopyWarning: \n",
            "A value is trying to be set on a copy of a slice from a DataFrame.\n",
            "Try using .loc[row_indexer,col_indexer] = value instead\n",
            "\n",
            "See the caveats in the documentation: https://pandas.pydata.org/pandas-docs/stable/user_guide/indexing.html#returning-a-view-versus-a-copy\n",
            "  \n",
            "/usr/local/lib/python3.7/dist-packages/pandas/core/indexing.py:1817: SettingWithCopyWarning: \n",
            "A value is trying to be set on a copy of a slice from a DataFrame.\n",
            "Try using .loc[row_indexer,col_indexer] = value instead\n",
            "\n",
            "See the caveats in the documentation: https://pandas.pydata.org/pandas-docs/stable/user_guide/indexing.html#returning-a-view-versus-a-copy\n",
            "  self._setitem_single_column(loc, value, pi)\n"
          ]
        }
      ]
    },
    {
      "cell_type": "code",
      "source": [
        "tograph['middle']='Zero'\n",
        "tograph.loc[tograph['Q03'].isin(['Less than $500','$501 to $1,000','$1,001 to $2,000']),'middle']='less than $2000'\n",
        "tograph.loc[tograph['Q03'].isin(['$2,001 to $3,000','$3,001 to $4,000','$4,001 to $5,000']),'middle']='between $2001 and $5,000'\n",
        "tograph.loc[tograph['Q03'].isin(['$5,001 to $7,000','$7,001 to $10,000','More than $10,000']),'middle']='more than $5,001'\n",
        "\n",
        "tograph.loc[tograph['Q03']=='Non User','Q03']='otro'\n",
        "\n"
      ],
      "metadata": {
        "colab": {
          "base_uri": "https://localhost:8080/"
        },
        "id": "78AykAwVb04e",
        "outputId": "552d9f0c-2886-4ae2-d5c4-f6e080c31581"
      },
      "execution_count": 9,
      "outputs": [
        {
          "output_type": "stream",
          "name": "stderr",
          "text": [
            "/usr/local/lib/python3.7/dist-packages/ipykernel_launcher.py:1: SettingWithCopyWarning: \n",
            "A value is trying to be set on a copy of a slice from a DataFrame.\n",
            "Try using .loc[row_indexer,col_indexer] = value instead\n",
            "\n",
            "See the caveats in the documentation: https://pandas.pydata.org/pandas-docs/stable/user_guide/indexing.html#returning-a-view-versus-a-copy\n",
            "  \"\"\"Entry point for launching an IPython kernel.\n",
            "/usr/local/lib/python3.7/dist-packages/pandas/core/indexing.py:1817: SettingWithCopyWarning: \n",
            "A value is trying to be set on a copy of a slice from a DataFrame.\n",
            "Try using .loc[row_indexer,col_indexer] = value instead\n",
            "\n",
            "See the caveats in the documentation: https://pandas.pydata.org/pandas-docs/stable/user_guide/indexing.html#returning-a-view-versus-a-copy\n",
            "  self._setitem_single_column(loc, value, pi)\n"
          ]
        }
      ]
    },
    {
      "cell_type": "code",
      "source": [
        "tograph['debtDummy']='debt to pay'\n",
        "tograph.loc[tograph['D11']=='No Info','debtDummy']='Zero Debt'\n",
        "tograph.loc[tograph['D11']=='No Info','D11']='No Info Necessary'"
      ],
      "metadata": {
        "colab": {
          "base_uri": "https://localhost:8080/"
        },
        "id": "Z7YNLLpfgcuJ",
        "outputId": "7bacef10-92bc-4b02-8384-b69b7b320675"
      },
      "execution_count": 10,
      "outputs": [
        {
          "output_type": "stream",
          "name": "stderr",
          "text": [
            "/usr/local/lib/python3.7/dist-packages/ipykernel_launcher.py:1: SettingWithCopyWarning: \n",
            "A value is trying to be set on a copy of a slice from a DataFrame.\n",
            "Try using .loc[row_indexer,col_indexer] = value instead\n",
            "\n",
            "See the caveats in the documentation: https://pandas.pydata.org/pandas-docs/stable/user_guide/indexing.html#returning-a-view-versus-a-copy\n",
            "  \"\"\"Entry point for launching an IPython kernel.\n",
            "/usr/local/lib/python3.7/dist-packages/pandas/core/indexing.py:1817: SettingWithCopyWarning: \n",
            "A value is trying to be set on a copy of a slice from a DataFrame.\n",
            "Try using .loc[row_indexer,col_indexer] = value instead\n",
            "\n",
            "See the caveats in the documentation: https://pandas.pydata.org/pandas-docs/stable/user_guide/indexing.html#returning-a-view-versus-a-copy\n",
            "  self._setitem_single_column(loc, value, pi)\n"
          ]
        }
      ]
    },
    {
      "cell_type": "markdown",
      "source": [
        "# first: mini Sankey"
      ],
      "metadata": {
        "id": "0D9t7M6Y5s9y"
      }
    },
    {
      "cell_type": "code",
      "source": [
        "tograph['count']=(tograph['weight']/10000).astype(int)\n",
        "\n",
        "\n",
        "def reindex_df(df, weight_col):\n",
        "    \"\"\"expand the dataframe to prepare for resampling\n",
        "    result is 1 row per count per sample\"\"\"\n",
        "    df = df.reindex(df.index.repeat(df[weight_col]))\n",
        "    df.reset_index(drop=True, inplace=True)\n",
        "    return(df)\n",
        "\n",
        "expandedGraph = reindex_df(tograph, weight_col = 'count')\n",
        "expandedGraph.shape"
      ],
      "metadata": {
        "colab": {
          "base_uri": "https://localhost:8080/"
        },
        "id": "ItGuehbEDsdY",
        "outputId": "92ea2c4d-2e5c-4197-cb71-c914956274fd"
      },
      "execution_count": 11,
      "outputs": [
        {
          "output_type": "stream",
          "name": "stderr",
          "text": [
            "/usr/local/lib/python3.7/dist-packages/ipykernel_launcher.py:1: SettingWithCopyWarning: \n",
            "A value is trying to be set on a copy of a slice from a DataFrame.\n",
            "Try using .loc[row_indexer,col_indexer] = value instead\n",
            "\n",
            "See the caveats in the documentation: https://pandas.pydata.org/pandas-docs/stable/user_guide/indexing.html#returning-a-view-versus-a-copy\n",
            "  \"\"\"Entry point for launching an IPython kernel.\n"
          ]
        },
        {
          "output_type": "execute_result",
          "data": {
            "text/plain": [
              "(23456, 9)"
            ]
          },
          "metadata": {},
          "execution_count": 11
        }
      ]
    },
    {
      "cell_type": "code",
      "source": [
        "expandedGraph1=expandedGraph.copy()\n",
        "expandedGraph1.loc[expandedGraph1['middle']=='between $2001 and $5,000','middle']='2k to 5k'\n",
        "expandedGraph1.loc[expandedGraph1['middle']=='less than $2000','middle']='less than 2k'\n",
        "expandedGraph1.loc[expandedGraph1['middle']=='more than $5,001','middle']='more than 5k'\n",
        "\n",
        "expandedGraph1['parcatColor']=0\n",
        "expandedGraph1.loc[expandedGraph1['middle']=='Zero','parcatColor']=1\n"
      ],
      "metadata": {
        "id": "YlNaOTos_ai6"
      },
      "execution_count": 12,
      "outputs": []
    },
    {
      "cell_type": "code",
      "source": [
        "expandedGraph1.loc[expandedGraph1['Q01_3']=='Credit card','Q01_3']='credit card user'\n",
        "expandedGraph1.loc[expandedGraph1['Q01_3']=='Non User','Q01_3']='non user'"
      ],
      "metadata": {
        "id": "_RXjqgBYyAhB"
      },
      "execution_count": 13,
      "outputs": []
    },
    {
      "cell_type": "code",
      "source": [
        "import re\n",
        "\n",
        "\n",
        "def opacity(color,opacity):\n",
        "  numbers=[int(s) for s in re.findall(r'\\d+', color)]\n",
        "\n",
        "  return f'rgba({numbers[0]},{numbers[1]},{numbers[2]},{opacity})'\n",
        "[int(s) for s in cGrad[0].split() if s.isdigit()]\n",
        "opacity(cGrad[0],0.5)"
      ],
      "metadata": {
        "colab": {
          "base_uri": "https://localhost:8080/",
          "height": 35
        },
        "id": "uaPt8F7qkRpx",
        "outputId": "13f90602-536d-4885-e1da-c5b32613ec06"
      },
      "execution_count": 14,
      "outputs": [
        {
          "output_type": "execute_result",
          "data": {
            "text/plain": [
              "'rgba(214,249,207,0.5)'"
            ],
            "application/vnd.google.colaboratory.intrinsic+json": {
              "type": "string"
            }
          },
          "metadata": {},
          "execution_count": 14
        }
      ]
    },
    {
      "cell_type": "code",
      "source": [
        "tographSankey=tograph.copy()\n",
        "\n",
        "tographSankey.loc[tographSankey['middle']=='between $2001 and $5,000','middle']='2k to 5k'\n",
        "tographSankey.loc[tographSankey['middle']=='less than $2000','middle']='less than 2k'\n",
        "tographSankey.loc[tographSankey['middle']=='more than $5,001','middle']='more than 5k'\n",
        "\n",
        "tographSankey['parcatColor']=0\n",
        "tographSankey.loc[tographSankey['middle']=='Zero','parcatColor']=1\n",
        "tographSankey.shape\n",
        "\n",
        "tographSankey.loc[tographSankey['Q01_3']=='Credit card','Q01_3']='credit card user'\n",
        "tographSankey.loc[tographSankey['Q01_3']=='Non User','Q01_3']='non user'"
      ],
      "metadata": {
        "id": "Isj5Vp0RgWOm"
      },
      "execution_count": 15,
      "outputs": []
    },
    {
      "cell_type": "code",
      "source": [
        "tosankey=tographSankey[['Q01_3','middle','weight']]\n",
        "\n",
        "tosankey['source']=0\n",
        "tosankey.loc[tosankey['Q01_3']=='non user','source']=1\n",
        "tosankey['target']=2\n",
        "tosankey.loc[tosankey['middle']=='2k to 5k','target']=3\n",
        "tosankey.loc[tosankey['middle']=='less than 2k','target']=4\n",
        "tosankey.loc[tosankey['middle']=='Zero','target']=5\n",
        "tosankey['source'].to_numpy()\n",
        "\n",
        "tosankey['color']=opacity(cGrad[3],0.8)\n",
        "tosankey.loc[tosankey['middle']=='Zero','color']=opacity(cGrad[1],0.6)"
      ],
      "metadata": {
        "colab": {
          "base_uri": "https://localhost:8080/"
        },
        "id": "3IsdhbUibjfH",
        "outputId": "d5f3c582-7d53-45cf-8224-4d2a11aa0abc"
      },
      "execution_count": 16,
      "outputs": [
        {
          "output_type": "stream",
          "name": "stderr",
          "text": [
            "/usr/local/lib/python3.7/dist-packages/ipykernel_launcher.py:3: SettingWithCopyWarning: \n",
            "A value is trying to be set on a copy of a slice from a DataFrame.\n",
            "Try using .loc[row_indexer,col_indexer] = value instead\n",
            "\n",
            "See the caveats in the documentation: https://pandas.pydata.org/pandas-docs/stable/user_guide/indexing.html#returning-a-view-versus-a-copy\n",
            "  This is separate from the ipykernel package so we can avoid doing imports until\n",
            "/usr/local/lib/python3.7/dist-packages/pandas/core/indexing.py:1817: SettingWithCopyWarning: \n",
            "A value is trying to be set on a copy of a slice from a DataFrame.\n",
            "Try using .loc[row_indexer,col_indexer] = value instead\n",
            "\n",
            "See the caveats in the documentation: https://pandas.pydata.org/pandas-docs/stable/user_guide/indexing.html#returning-a-view-versus-a-copy\n",
            "  self._setitem_single_column(loc, value, pi)\n",
            "/usr/local/lib/python3.7/dist-packages/ipykernel_launcher.py:5: SettingWithCopyWarning: \n",
            "A value is trying to be set on a copy of a slice from a DataFrame.\n",
            "Try using .loc[row_indexer,col_indexer] = value instead\n",
            "\n",
            "See the caveats in the documentation: https://pandas.pydata.org/pandas-docs/stable/user_guide/indexing.html#returning-a-view-versus-a-copy\n",
            "  \"\"\"\n",
            "/usr/local/lib/python3.7/dist-packages/ipykernel_launcher.py:11: SettingWithCopyWarning: \n",
            "A value is trying to be set on a copy of a slice from a DataFrame.\n",
            "Try using .loc[row_indexer,col_indexer] = value instead\n",
            "\n",
            "See the caveats in the documentation: https://pandas.pydata.org/pandas-docs/stable/user_guide/indexing.html#returning-a-view-versus-a-copy\n",
            "  # This is added back by InteractiveShellApp.init_path()\n"
          ]
        }
      ]
    },
    {
      "cell_type": "code",
      "source": [
        "a=tosankey.loc[tosankey['target']==2].mean().to_numpy()\n",
        "a=a*np.array([len(tosankey.loc[tosankey['target']==2]),1,1])\n",
        "colora=tosankey.loc[tosankey['target']==2,'color'].reset_index().loc[0,:].to_numpy()[1]\n",
        "a=np.concatenate([a,[colora]])\n",
        "\n",
        "b=tosankey.loc[tosankey['target']==3].mean().to_numpy()\n",
        "b=b*np.array([len(tosankey.loc[tosankey['target']==3]),1,1])\n",
        "colorb=tosankey.loc[tosankey['target']==3,'color'].reset_index().loc[0,:].to_numpy()[1]\n",
        "b=np.concatenate([b,[colorb]])\n",
        "\n",
        "c=tosankey.loc[tosankey['target']==4].mean().to_numpy()\n",
        "c=c*np.array([len(tosankey.loc[tosankey['target']==4]),1,1])\n",
        "colorc=tosankey.loc[tosankey['target']==4,'color'].reset_index().loc[0,:].to_numpy()[1]\n",
        "c=np.concatenate([c,[colorc]])\n",
        "\n",
        "\n",
        "d=tosankey.loc[(tosankey['target']==5) & (tosankey['source']==0)].mean().to_numpy()\n",
        "d=d*np.array([len(tosankey.loc[(tosankey['target']==5) & (tosankey['source']==0)]),1,1])\n",
        "colord=tosankey.loc[(tosankey['target']==5) & (tosankey['source']==0),'color'].reset_index().loc[0,:].to_numpy()[1]\n",
        "d=np.concatenate([d,[colord]])\n",
        "\n",
        "\n",
        "e=tosankey.loc[(tosankey['target']==5) & (tosankey['source']==1)].mean().to_numpy()\n",
        "e=e*np.array([len(tosankey.loc[(tosankey['target']==5) & (tosankey['source']==1)]),1,1])\n",
        "colore=tosankey.loc[(tosankey['target']==5) & (tosankey['source']==1),'color'].reset_index().loc[0,:].to_numpy()[1]\n",
        "e=np.concatenate([e,[colore]])\n",
        "\n",
        "\n",
        "finale=np.stack([a,b,c,d,e]).transpose()\n"
      ],
      "metadata": {
        "colab": {
          "base_uri": "https://localhost:8080/"
        },
        "id": "PaOI3FsvzLnL",
        "outputId": "46970878-5e35-4228-93d8-50d1885fb448"
      },
      "execution_count": 17,
      "outputs": [
        {
          "output_type": "stream",
          "name": "stderr",
          "text": [
            "/usr/local/lib/python3.7/dist-packages/ipykernel_launcher.py:1: FutureWarning: Dropping of nuisance columns in DataFrame reductions (with 'numeric_only=None') is deprecated; in a future version this will raise TypeError.  Select only valid columns before calling the reduction.\n",
            "  \"\"\"Entry point for launching an IPython kernel.\n",
            "/usr/local/lib/python3.7/dist-packages/ipykernel_launcher.py:6: FutureWarning: Dropping of nuisance columns in DataFrame reductions (with 'numeric_only=None') is deprecated; in a future version this will raise TypeError.  Select only valid columns before calling the reduction.\n",
            "  \n",
            "/usr/local/lib/python3.7/dist-packages/ipykernel_launcher.py:11: FutureWarning: Dropping of nuisance columns in DataFrame reductions (with 'numeric_only=None') is deprecated; in a future version this will raise TypeError.  Select only valid columns before calling the reduction.\n",
            "  # This is added back by InteractiveShellApp.init_path()\n",
            "/usr/local/lib/python3.7/dist-packages/ipykernel_launcher.py:17: FutureWarning: Dropping of nuisance columns in DataFrame reductions (with 'numeric_only=None') is deprecated; in a future version this will raise TypeError.  Select only valid columns before calling the reduction.\n",
            "/usr/local/lib/python3.7/dist-packages/ipykernel_launcher.py:23: FutureWarning: Dropping of nuisance columns in DataFrame reductions (with 'numeric_only=None') is deprecated; in a future version this will raise TypeError.  Select only valid columns before calling the reduction.\n"
          ]
        }
      ]
    },
    {
      "cell_type": "code",
      "source": [
        "import plotly.graph_objects as go\n",
        "\n",
        "fig = go.Figure(data=[go.Sankey(\n",
        "    node = dict(\n",
        "      pad = 15,\n",
        "      thickness = 20,\n",
        "      line = dict(color = \"black\",width=1.0),\n",
        "      label = ['credit card user', 'non user','more than 5k','2k to 5k','less than 2k','Zero'],\n",
        "      color = opacity(cGrad[9],1)\n",
        "    ),\n",
        "    link = dict(\n",
        "      source = finale[1], # indices correspond to labels, eg A1, A2, A1, B1, ...\n",
        "      target = finale[2],\n",
        "      value = finale[0],\n",
        "      color=finale[3]\n",
        "      \n",
        "  ))])\n",
        "\n",
        "fig.update_layout(title_text='Composition of Monthly Debt', font_size=16,template='presentation')\n",
        "fig.show()"
      ],
      "metadata": {
        "colab": {
          "base_uri": "https://localhost:8080/",
          "height": 542
        },
        "id": "rf3FTVnn0LFY",
        "outputId": "562db57a-a86b-4678-af4c-b8000bd927da"
      },
      "execution_count": 18,
      "outputs": [
        {
          "output_type": "display_data",
          "data": {
            "text/html": [
              "<html>\n",
              "<head><meta charset=\"utf-8\" /></head>\n",
              "<body>\n",
              "    <div>            <script src=\"https://cdnjs.cloudflare.com/ajax/libs/mathjax/2.7.5/MathJax.js?config=TeX-AMS-MML_SVG\"></script><script type=\"text/javascript\">if (window.MathJax) {MathJax.Hub.Config({SVG: {font: \"STIX-Web\"}});}</script>                <script type=\"text/javascript\">window.PlotlyConfig = {MathJaxConfig: 'local'};</script>\n",
              "        <script src=\"https://cdn.plot.ly/plotly-2.8.3.min.js\"></script>                <div id=\"b6089ded-660d-4389-96b8-3b0d420c1150\" class=\"plotly-graph-div\" style=\"height:525px; width:100%;\"></div>            <script type=\"text/javascript\">                                    window.PLOTLYENV=window.PLOTLYENV || {};                                    if (document.getElementById(\"b6089ded-660d-4389-96b8-3b0d420c1150\")) {                    Plotly.newPlot(                        \"b6089ded-660d-4389-96b8-3b0d420c1150\",                        [{\"link\":{\"color\":[\"rgba(124,191,115,0.8)\",\"rgba(124,191,115,0.8)\",\"rgba(124,191,115,0.8)\",\"rgba(186,228,174,0.6)\",\"rgba(186,228,174,0.6)\"],\"source\":[\"0.0\",\"0.0\",\"0.0\",\"0.0\",\"1.0\"],\"target\":[\"2.0\",\"3.0\",\"4.0\",\"5.0\",\"5.0\"],\"value\":[\"29410639.535556242\",\"36811882.887398206\",\"72854215.2253302\",\"26939732.853985216\",\"89683352.42332597\"]},\"node\":{\"color\":\"rgba(25,75,49,1)\",\"label\":[\"credit card user\",\"non user\",\"more than 5k\",\"2k to 5k\",\"less than 2k\",\"Zero\"],\"line\":{\"color\":\"black\",\"width\":1.0},\"pad\":15,\"thickness\":20},\"type\":\"sankey\"}],                        {\"template\":{\"data\":{\"pie\":[{\"automargin\":true,\"type\":\"pie\"}],\"scatter3d\":[{\"line\":{\"width\":3},\"marker\":{\"size\":9},\"type\":\"scatter3d\"}],\"scattergeo\":[{\"line\":{\"width\":3},\"marker\":{\"size\":9},\"type\":\"scattergeo\"}],\"scattergl\":[{\"line\":{\"width\":3},\"marker\":{\"size\":9},\"type\":\"scattergl\"}],\"scatterpolargl\":[{\"line\":{\"width\":3},\"marker\":{\"size\":9},\"type\":\"scatterpolargl\"}],\"scatterpolar\":[{\"line\":{\"width\":3},\"marker\":{\"size\":9},\"type\":\"scatterpolar\"}],\"scatter\":[{\"line\":{\"width\":3},\"marker\":{\"size\":9},\"type\":\"scatter\"}],\"scatterternary\":[{\"line\":{\"width\":3},\"marker\":{\"size\":9},\"type\":\"scatterternary\"}],\"table\":[{\"cells\":{\"height\":30},\"header\":{\"height\":36},\"type\":\"table\"}]},\"layout\":{\"font\":{\"size\":18},\"xaxis\":{\"title\":{\"standoff\":15}},\"yaxis\":{\"title\":{\"standoff\":15}}}},\"title\":{\"text\":\"Composition of Monthly Debt\"},\"font\":{\"size\":16}},                        {\"responsive\": true}                    ).then(function(){\n",
              "                            \n",
              "var gd = document.getElementById('b6089ded-660d-4389-96b8-3b0d420c1150');\n",
              "var x = new MutationObserver(function (mutations, observer) {{\n",
              "        var display = window.getComputedStyle(gd).display;\n",
              "        if (!display || display === 'none') {{\n",
              "            console.log([gd, 'removed!']);\n",
              "            Plotly.purge(gd);\n",
              "            observer.disconnect();\n",
              "        }}\n",
              "}});\n",
              "\n",
              "// Listen for the removal of the full notebook cells\n",
              "var notebookContainer = gd.closest('#notebook-container');\n",
              "if (notebookContainer) {{\n",
              "    x.observe(notebookContainer, {childList: true});\n",
              "}}\n",
              "\n",
              "// Listen for the clearing of the current output cell\n",
              "var outputEl = gd.closest('.output');\n",
              "if (outputEl) {{\n",
              "    x.observe(outputEl, {childList: true});\n",
              "}}\n",
              "\n",
              "                        })                };                            </script>        </div>\n",
              "</body>\n",
              "</html>"
            ]
          },
          "metadata": {}
        }
      ]
    },
    {
      "cell_type": "markdown",
      "source": [
        "# second: bar"
      ],
      "metadata": {
        "id": "9hT6NQKma-1k"
      }
    },
    {
      "cell_type": "code",
      "source": [
        "\n",
        "tographSecond=df2[['Q07_1','Q07_2','Q07_3','Q07_4','Q07_5','Q07_6','weight']]\n",
        "barList=[]\n",
        "omegaUser=tographSecond['weight'].sum()\n",
        "barList.append(1-(tographSecond.loc[tographSecond['Q07_1'].isnull(),'weight'].sum()/omegaUser))\n",
        "barList.append(tographSecond.loc[tographSecond['Q07_2']=='Online payments','weight'].sum()/omegaUser)\n",
        "barList.append(tographSecond.loc[tographSecond['Q07_1']=='In-store payments','weight'].sum()/omegaUser)\n",
        "barList.append(tographSecond.loc[tographSecond['Q07_4']=='Subscription payments ','weight'].sum()/omegaUser)\n",
        "barList.append(tographSecond.loc[tographSecond['Q07_5']=='Bill payments (rent, mortgage, utilities, etc.)','weight'].sum()/omegaUser)\n",
        "barList.append(tographSecond.loc[tographSecond['Q07_3']=='Over-the-phone payments','weight'].sum()/omegaUser)\n",
        "barList.append(tographSecond.loc[tographSecond['Q07_6']=='Other, please specify: ','weight'].sum()/omegaUser)\n"
      ],
      "metadata": {
        "id": "nc0MXm3Pe9d5"
      },
      "execution_count": 19,
      "outputs": []
    },
    {
      "cell_type": "code",
      "source": [
        "import plotly.graph_objects as go\n",
        "\n",
        "sides=80\n",
        "upper=140\n",
        "colors = [cGrad[4],] * 7\n",
        "colors[1] = cGrad[11]\n",
        "\n",
        "fig = go.Figure(data=[go.Bar(\n",
        "    x=['Any Payment','Online payments', 'In-store payments', 'Subscription payments',\n",
        "       'Bill payments', 'Over-the-phone payments','Other'],\n",
        "    y=barList,\n",
        "    marker_color=colors\n",
        ")])\n",
        "fig.update_layout(title_text='Usual Credit Card Usage',template='presentation',margin=dict(l=sides, r=sides, t=70, b=upper))\n",
        "    \n",
        "\n"
      ],
      "metadata": {
        "colab": {
          "base_uri": "https://localhost:8080/",
          "height": 542
        },
        "id": "jIRfqP1DejUN",
        "outputId": "0c48cb02-85f2-4cf9-d2d1-5a9a3954ca52"
      },
      "execution_count": 20,
      "outputs": [
        {
          "output_type": "display_data",
          "data": {
            "text/html": [
              "<html>\n",
              "<head><meta charset=\"utf-8\" /></head>\n",
              "<body>\n",
              "    <div>            <script src=\"https://cdnjs.cloudflare.com/ajax/libs/mathjax/2.7.5/MathJax.js?config=TeX-AMS-MML_SVG\"></script><script type=\"text/javascript\">if (window.MathJax) {MathJax.Hub.Config({SVG: {font: \"STIX-Web\"}});}</script>                <script type=\"text/javascript\">window.PlotlyConfig = {MathJaxConfig: 'local'};</script>\n",
              "        <script src=\"https://cdn.plot.ly/plotly-2.8.3.min.js\"></script>                <div id=\"6af0e715-9fa7-471a-9e4a-edf4a0bc3a08\" class=\"plotly-graph-div\" style=\"height:525px; width:100%;\"></div>            <script type=\"text/javascript\">                                    window.PLOTLYENV=window.PLOTLYENV || {};                                    if (document.getElementById(\"6af0e715-9fa7-471a-9e4a-edf4a0bc3a08\")) {                    Plotly.newPlot(                        \"6af0e715-9fa7-471a-9e4a-edf4a0bc3a08\",                        [{\"marker\":{\"color\":[\"rgb(85, 174, 91)\",\"rgb(17, 36, 20)\",\"rgb(85, 174, 91)\",\"rgb(85, 174, 91)\",\"rgb(85, 174, 91)\",\"rgb(85, 174, 91)\",\"rgb(85, 174, 91)\"]},\"x\":[\"Any Payment\",\"Online payments\",\"In-store payments\",\"Subscription payments\",\"Bill payments\",\"Over-the-phone payments\",\"Other\"],\"y\":[0.5315956382367831,0.42840238603459124,0.3892038837806636,0.22666183407154727,0.20487972948643635,0.18032335598072302,0.01016144741323682],\"type\":\"bar\"}],                        {\"template\":{\"data\":{\"pie\":[{\"automargin\":true,\"type\":\"pie\"}],\"scatter3d\":[{\"line\":{\"width\":3},\"marker\":{\"size\":9},\"type\":\"scatter3d\"}],\"scattergeo\":[{\"line\":{\"width\":3},\"marker\":{\"size\":9},\"type\":\"scattergeo\"}],\"scattergl\":[{\"line\":{\"width\":3},\"marker\":{\"size\":9},\"type\":\"scattergl\"}],\"scatterpolargl\":[{\"line\":{\"width\":3},\"marker\":{\"size\":9},\"type\":\"scatterpolargl\"}],\"scatterpolar\":[{\"line\":{\"width\":3},\"marker\":{\"size\":9},\"type\":\"scatterpolar\"}],\"scatter\":[{\"line\":{\"width\":3},\"marker\":{\"size\":9},\"type\":\"scatter\"}],\"scatterternary\":[{\"line\":{\"width\":3},\"marker\":{\"size\":9},\"type\":\"scatterternary\"}],\"table\":[{\"cells\":{\"height\":30},\"header\":{\"height\":36},\"type\":\"table\"}]},\"layout\":{\"font\":{\"size\":18},\"xaxis\":{\"title\":{\"standoff\":15}},\"yaxis\":{\"title\":{\"standoff\":15}}}},\"title\":{\"text\":\"Usual Credit Card Usage\"},\"margin\":{\"l\":80,\"r\":80,\"t\":70,\"b\":140}},                        {\"responsive\": true}                    ).then(function(){\n",
              "                            \n",
              "var gd = document.getElementById('6af0e715-9fa7-471a-9e4a-edf4a0bc3a08');\n",
              "var x = new MutationObserver(function (mutations, observer) {{\n",
              "        var display = window.getComputedStyle(gd).display;\n",
              "        if (!display || display === 'none') {{\n",
              "            console.log([gd, 'removed!']);\n",
              "            Plotly.purge(gd);\n",
              "            observer.disconnect();\n",
              "        }}\n",
              "}});\n",
              "\n",
              "// Listen for the removal of the full notebook cells\n",
              "var notebookContainer = gd.closest('#notebook-container');\n",
              "if (notebookContainer) {{\n",
              "    x.observe(notebookContainer, {childList: true});\n",
              "}}\n",
              "\n",
              "// Listen for the clearing of the current output cell\n",
              "var outputEl = gd.closest('.output');\n",
              "if (outputEl) {{\n",
              "    x.observe(outputEl, {childList: true});\n",
              "}}\n",
              "\n",
              "                        })                };                            </script>        </div>\n",
              "</body>\n",
              "</html>"
            ]
          },
          "metadata": {}
        }
      ]
    },
    {
      "cell_type": "markdown",
      "source": [
        "# third: tree pie"
      ],
      "metadata": {
        "id": "i9joOewAmZKe"
      }
    },
    {
      "cell_type": "code",
      "source": [
        "tograph4=tograph.copy()\n",
        "tograph4.loc[tograph4['debtDummy']=='debt to pay','debtDummy']='Debt to Pay'\n",
        "tograph4.loc[tograph4['D11']=='Below $25,000','D11']='Under 25k'\n",
        "tograph4.loc[tograph4['D11']=='Between $25,000 and $49,999','D11']='25k to 50k'\n",
        "tograph4.loc[tograph4['D11']=='Between $50,000 and $74,999','D11']='50k to 75k'\n",
        "tograph4.loc[tograph4['D11']=='Between $75,000 and $99,999','D11']='75k to 100k'\n",
        "tograph4.loc[tograph4['D11']=='More than $100,000','D11']='Over 100k'\n",
        "\n"
      ],
      "metadata": {
        "id": "gcfP7Ofmqhch"
      },
      "execution_count": 21,
      "outputs": []
    },
    {
      "cell_type": "code",
      "source": [
        "leaf=pd.concat([tograph4.loc[tograph4['D11']=='Under 25k'],\n",
        "                tograph4.loc[tograph4['D11']=='25k to 50k'],\n",
        "                tograph4.loc[tograph4['D11']=='50k to 75k'],\n",
        "                tograph4.loc[tograph4['D11']=='75k to 100k'],\n",
        "                tograph4.loc[tograph4['D11']=='Over 100k']\n",
        "\n",
        "\n",
        "                ])\n",
        "leaf=leaf[['debtDummy', 'D11','weight','debt/income']]\n",
        "leaf"
      ],
      "metadata": {
        "colab": {
          "base_uri": "https://localhost:8080/",
          "height": 424
        },
        "id": "0hNRwX9tsGQ4",
        "outputId": "8a5eb59a-9325-45f4-c75d-1d59131f8269"
      },
      "execution_count": 22,
      "outputs": [
        {
          "output_type": "execute_result",
          "data": {
            "text/plain": [
              "        debtDummy        D11         weight  debt/income\n",
              "3     Debt to Pay  Under 25k   44332.082801     0.900000\n",
              "5     Debt to Pay  Under 25k   41980.532533     0.450000\n",
              "6     Debt to Pay  Under 25k   41980.532533     0.450000\n",
              "7     Debt to Pay  Under 25k   29898.585011     0.150000\n",
              "8     Debt to Pay  Under 25k   44778.097678     0.150000\n",
              "...           ...        ...            ...          ...\n",
              "2075  Debt to Pay  Over 100k  113316.760354     0.272727\n",
              "2076  Debt to Pay  Over 100k  113316.760354     0.654545\n",
              "2080  Debt to Pay  Over 100k    42913.21668     0.081818\n",
              "2090  Debt to Pay  Over 100k   39536.359426     1.200000\n",
              "2092  Debt to Pay  Over 100k   47894.215045     0.027273\n",
              "\n",
              "[2094 rows x 4 columns]"
            ],
            "text/html": [
              "\n",
              "  <div id=\"df-8582b674-17a7-4c15-b30d-8b670e08b908\">\n",
              "    <div class=\"colab-df-container\">\n",
              "      <div>\n",
              "<style scoped>\n",
              "    .dataframe tbody tr th:only-of-type {\n",
              "        vertical-align: middle;\n",
              "    }\n",
              "\n",
              "    .dataframe tbody tr th {\n",
              "        vertical-align: top;\n",
              "    }\n",
              "\n",
              "    .dataframe thead th {\n",
              "        text-align: right;\n",
              "    }\n",
              "</style>\n",
              "<table border=\"1\" class=\"dataframe\">\n",
              "  <thead>\n",
              "    <tr style=\"text-align: right;\">\n",
              "      <th></th>\n",
              "      <th>debtDummy</th>\n",
              "      <th>D11</th>\n",
              "      <th>weight</th>\n",
              "      <th>debt/income</th>\n",
              "    </tr>\n",
              "  </thead>\n",
              "  <tbody>\n",
              "    <tr>\n",
              "      <th>3</th>\n",
              "      <td>Debt to Pay</td>\n",
              "      <td>Under 25k</td>\n",
              "      <td>44332.082801</td>\n",
              "      <td>0.900000</td>\n",
              "    </tr>\n",
              "    <tr>\n",
              "      <th>5</th>\n",
              "      <td>Debt to Pay</td>\n",
              "      <td>Under 25k</td>\n",
              "      <td>41980.532533</td>\n",
              "      <td>0.450000</td>\n",
              "    </tr>\n",
              "    <tr>\n",
              "      <th>6</th>\n",
              "      <td>Debt to Pay</td>\n",
              "      <td>Under 25k</td>\n",
              "      <td>41980.532533</td>\n",
              "      <td>0.450000</td>\n",
              "    </tr>\n",
              "    <tr>\n",
              "      <th>7</th>\n",
              "      <td>Debt to Pay</td>\n",
              "      <td>Under 25k</td>\n",
              "      <td>29898.585011</td>\n",
              "      <td>0.150000</td>\n",
              "    </tr>\n",
              "    <tr>\n",
              "      <th>8</th>\n",
              "      <td>Debt to Pay</td>\n",
              "      <td>Under 25k</td>\n",
              "      <td>44778.097678</td>\n",
              "      <td>0.150000</td>\n",
              "    </tr>\n",
              "    <tr>\n",
              "      <th>...</th>\n",
              "      <td>...</td>\n",
              "      <td>...</td>\n",
              "      <td>...</td>\n",
              "      <td>...</td>\n",
              "    </tr>\n",
              "    <tr>\n",
              "      <th>2075</th>\n",
              "      <td>Debt to Pay</td>\n",
              "      <td>Over 100k</td>\n",
              "      <td>113316.760354</td>\n",
              "      <td>0.272727</td>\n",
              "    </tr>\n",
              "    <tr>\n",
              "      <th>2076</th>\n",
              "      <td>Debt to Pay</td>\n",
              "      <td>Over 100k</td>\n",
              "      <td>113316.760354</td>\n",
              "      <td>0.654545</td>\n",
              "    </tr>\n",
              "    <tr>\n",
              "      <th>2080</th>\n",
              "      <td>Debt to Pay</td>\n",
              "      <td>Over 100k</td>\n",
              "      <td>42913.21668</td>\n",
              "      <td>0.081818</td>\n",
              "    </tr>\n",
              "    <tr>\n",
              "      <th>2090</th>\n",
              "      <td>Debt to Pay</td>\n",
              "      <td>Over 100k</td>\n",
              "      <td>39536.359426</td>\n",
              "      <td>1.200000</td>\n",
              "    </tr>\n",
              "    <tr>\n",
              "      <th>2092</th>\n",
              "      <td>Debt to Pay</td>\n",
              "      <td>Over 100k</td>\n",
              "      <td>47894.215045</td>\n",
              "      <td>0.027273</td>\n",
              "    </tr>\n",
              "  </tbody>\n",
              "</table>\n",
              "<p>2094 rows × 4 columns</p>\n",
              "</div>\n",
              "      <button class=\"colab-df-convert\" onclick=\"convertToInteractive('df-8582b674-17a7-4c15-b30d-8b670e08b908')\"\n",
              "              title=\"Convert this dataframe to an interactive table.\"\n",
              "              style=\"display:none;\">\n",
              "        \n",
              "  <svg xmlns=\"http://www.w3.org/2000/svg\" height=\"24px\"viewBox=\"0 0 24 24\"\n",
              "       width=\"24px\">\n",
              "    <path d=\"M0 0h24v24H0V0z\" fill=\"none\"/>\n",
              "    <path d=\"M18.56 5.44l.94 2.06.94-2.06 2.06-.94-2.06-.94-.94-2.06-.94 2.06-2.06.94zm-11 1L8.5 8.5l.94-2.06 2.06-.94-2.06-.94L8.5 2.5l-.94 2.06-2.06.94zm10 10l.94 2.06.94-2.06 2.06-.94-2.06-.94-.94-2.06-.94 2.06-2.06.94z\"/><path d=\"M17.41 7.96l-1.37-1.37c-.4-.4-.92-.59-1.43-.59-.52 0-1.04.2-1.43.59L10.3 9.45l-7.72 7.72c-.78.78-.78 2.05 0 2.83L4 21.41c.39.39.9.59 1.41.59.51 0 1.02-.2 1.41-.59l7.78-7.78 2.81-2.81c.8-.78.8-2.07 0-2.86zM5.41 20L4 18.59l7.72-7.72 1.47 1.35L5.41 20z\"/>\n",
              "  </svg>\n",
              "      </button>\n",
              "      \n",
              "  <style>\n",
              "    .colab-df-container {\n",
              "      display:flex;\n",
              "      flex-wrap:wrap;\n",
              "      gap: 12px;\n",
              "    }\n",
              "\n",
              "    .colab-df-convert {\n",
              "      background-color: #E8F0FE;\n",
              "      border: none;\n",
              "      border-radius: 50%;\n",
              "      cursor: pointer;\n",
              "      display: none;\n",
              "      fill: #1967D2;\n",
              "      height: 32px;\n",
              "      padding: 0 0 0 0;\n",
              "      width: 32px;\n",
              "    }\n",
              "\n",
              "    .colab-df-convert:hover {\n",
              "      background-color: #E2EBFA;\n",
              "      box-shadow: 0px 1px 2px rgba(60, 64, 67, 0.3), 0px 1px 3px 1px rgba(60, 64, 67, 0.15);\n",
              "      fill: #174EA6;\n",
              "    }\n",
              "\n",
              "    [theme=dark] .colab-df-convert {\n",
              "      background-color: #3B4455;\n",
              "      fill: #D2E3FC;\n",
              "    }\n",
              "\n",
              "    [theme=dark] .colab-df-convert:hover {\n",
              "      background-color: #434B5C;\n",
              "      box-shadow: 0px 1px 3px 1px rgba(0, 0, 0, 0.15);\n",
              "      filter: drop-shadow(0px 1px 2px rgba(0, 0, 0, 0.3));\n",
              "      fill: #FFFFFF;\n",
              "    }\n",
              "  </style>\n",
              "\n",
              "      <script>\n",
              "        const buttonEl =\n",
              "          document.querySelector('#df-8582b674-17a7-4c15-b30d-8b670e08b908 button.colab-df-convert');\n",
              "        buttonEl.style.display =\n",
              "          google.colab.kernel.accessAllowed ? 'block' : 'none';\n",
              "\n",
              "        async function convertToInteractive(key) {\n",
              "          const element = document.querySelector('#df-8582b674-17a7-4c15-b30d-8b670e08b908');\n",
              "          const dataTable =\n",
              "            await google.colab.kernel.invokeFunction('convertToInteractive',\n",
              "                                                     [key], {});\n",
              "          if (!dataTable) return;\n",
              "\n",
              "          const docLinkHtml = 'Like what you see? Visit the ' +\n",
              "            '<a target=\"_blank\" href=https://colab.research.google.com/notebooks/data_table.ipynb>data table notebook</a>'\n",
              "            + ' to learn more about interactive tables.';\n",
              "          element.innerHTML = '';\n",
              "          dataTable['output_type'] = 'display_data';\n",
              "          await google.colab.output.renderOutput(dataTable, element);\n",
              "          const docLink = document.createElement('div');\n",
              "          docLink.innerHTML = docLinkHtml;\n",
              "          element.appendChild(docLink);\n",
              "        }\n",
              "      </script>\n",
              "    </div>\n",
              "  </div>\n",
              "  "
            ]
          },
          "metadata": {},
          "execution_count": 22
        }
      ]
    },
    {
      "cell_type": "code",
      "source": [
        "noDebtOmega=tograph4.loc[tograph4['debtDummy']=='Zero Debt','weight'].sum()"
      ],
      "metadata": {
        "id": "8v_Ldiyhuoa9"
      },
      "execution_count": 23,
      "outputs": []
    },
    {
      "cell_type": "code",
      "source": [
        "noDebt=pd.DataFrame({'debtDummy':['Zero Debt'],'D11':[None],'weight':[noDebtOmega],'debt/income':[0]})"
      ],
      "metadata": {
        "id": "0htHVLPouYFg"
      },
      "execution_count": 24,
      "outputs": []
    },
    {
      "cell_type": "code",
      "source": [
        "leaFull=pd.concat([leaf,noDebt])\n",
        "leaFull"
      ],
      "metadata": {
        "colab": {
          "base_uri": "https://localhost:8080/",
          "height": 424
        },
        "id": "caZTCmYFvEPy",
        "outputId": "42e3bf8a-1038-4992-9036-24b96c2a0c88"
      },
      "execution_count": 25,
      "outputs": [
        {
          "output_type": "execute_result",
          "data": {
            "text/plain": [
              "        debtDummy        D11            weight  debt/income\n",
              "3     Debt to Pay  Under 25k      44332.082801     0.900000\n",
              "5     Debt to Pay  Under 25k      41980.532533     0.450000\n",
              "6     Debt to Pay  Under 25k      41980.532533     0.450000\n",
              "7     Debt to Pay  Under 25k      29898.585011     0.150000\n",
              "8     Debt to Pay  Under 25k      44778.097678     0.150000\n",
              "...           ...        ...               ...          ...\n",
              "2076  Debt to Pay  Over 100k     113316.760354     0.654545\n",
              "2080  Debt to Pay  Over 100k       42913.21668     0.081818\n",
              "2090  Debt to Pay  Over 100k      39536.359426     1.200000\n",
              "2092  Debt to Pay  Over 100k      47894.215045     0.027273\n",
              "0       Zero Debt       None  118548148.260506     0.000000\n",
              "\n",
              "[2095 rows x 4 columns]"
            ],
            "text/html": [
              "\n",
              "  <div id=\"df-f1adfb1a-7697-485c-8670-87c0bf96b5e8\">\n",
              "    <div class=\"colab-df-container\">\n",
              "      <div>\n",
              "<style scoped>\n",
              "    .dataframe tbody tr th:only-of-type {\n",
              "        vertical-align: middle;\n",
              "    }\n",
              "\n",
              "    .dataframe tbody tr th {\n",
              "        vertical-align: top;\n",
              "    }\n",
              "\n",
              "    .dataframe thead th {\n",
              "        text-align: right;\n",
              "    }\n",
              "</style>\n",
              "<table border=\"1\" class=\"dataframe\">\n",
              "  <thead>\n",
              "    <tr style=\"text-align: right;\">\n",
              "      <th></th>\n",
              "      <th>debtDummy</th>\n",
              "      <th>D11</th>\n",
              "      <th>weight</th>\n",
              "      <th>debt/income</th>\n",
              "    </tr>\n",
              "  </thead>\n",
              "  <tbody>\n",
              "    <tr>\n",
              "      <th>3</th>\n",
              "      <td>Debt to Pay</td>\n",
              "      <td>Under 25k</td>\n",
              "      <td>44332.082801</td>\n",
              "      <td>0.900000</td>\n",
              "    </tr>\n",
              "    <tr>\n",
              "      <th>5</th>\n",
              "      <td>Debt to Pay</td>\n",
              "      <td>Under 25k</td>\n",
              "      <td>41980.532533</td>\n",
              "      <td>0.450000</td>\n",
              "    </tr>\n",
              "    <tr>\n",
              "      <th>6</th>\n",
              "      <td>Debt to Pay</td>\n",
              "      <td>Under 25k</td>\n",
              "      <td>41980.532533</td>\n",
              "      <td>0.450000</td>\n",
              "    </tr>\n",
              "    <tr>\n",
              "      <th>7</th>\n",
              "      <td>Debt to Pay</td>\n",
              "      <td>Under 25k</td>\n",
              "      <td>29898.585011</td>\n",
              "      <td>0.150000</td>\n",
              "    </tr>\n",
              "    <tr>\n",
              "      <th>8</th>\n",
              "      <td>Debt to Pay</td>\n",
              "      <td>Under 25k</td>\n",
              "      <td>44778.097678</td>\n",
              "      <td>0.150000</td>\n",
              "    </tr>\n",
              "    <tr>\n",
              "      <th>...</th>\n",
              "      <td>...</td>\n",
              "      <td>...</td>\n",
              "      <td>...</td>\n",
              "      <td>...</td>\n",
              "    </tr>\n",
              "    <tr>\n",
              "      <th>2076</th>\n",
              "      <td>Debt to Pay</td>\n",
              "      <td>Over 100k</td>\n",
              "      <td>113316.760354</td>\n",
              "      <td>0.654545</td>\n",
              "    </tr>\n",
              "    <tr>\n",
              "      <th>2080</th>\n",
              "      <td>Debt to Pay</td>\n",
              "      <td>Over 100k</td>\n",
              "      <td>42913.21668</td>\n",
              "      <td>0.081818</td>\n",
              "    </tr>\n",
              "    <tr>\n",
              "      <th>2090</th>\n",
              "      <td>Debt to Pay</td>\n",
              "      <td>Over 100k</td>\n",
              "      <td>39536.359426</td>\n",
              "      <td>1.200000</td>\n",
              "    </tr>\n",
              "    <tr>\n",
              "      <th>2092</th>\n",
              "      <td>Debt to Pay</td>\n",
              "      <td>Over 100k</td>\n",
              "      <td>47894.215045</td>\n",
              "      <td>0.027273</td>\n",
              "    </tr>\n",
              "    <tr>\n",
              "      <th>0</th>\n",
              "      <td>Zero Debt</td>\n",
              "      <td>None</td>\n",
              "      <td>118548148.260506</td>\n",
              "      <td>0.000000</td>\n",
              "    </tr>\n",
              "  </tbody>\n",
              "</table>\n",
              "<p>2095 rows × 4 columns</p>\n",
              "</div>\n",
              "      <button class=\"colab-df-convert\" onclick=\"convertToInteractive('df-f1adfb1a-7697-485c-8670-87c0bf96b5e8')\"\n",
              "              title=\"Convert this dataframe to an interactive table.\"\n",
              "              style=\"display:none;\">\n",
              "        \n",
              "  <svg xmlns=\"http://www.w3.org/2000/svg\" height=\"24px\"viewBox=\"0 0 24 24\"\n",
              "       width=\"24px\">\n",
              "    <path d=\"M0 0h24v24H0V0z\" fill=\"none\"/>\n",
              "    <path d=\"M18.56 5.44l.94 2.06.94-2.06 2.06-.94-2.06-.94-.94-2.06-.94 2.06-2.06.94zm-11 1L8.5 8.5l.94-2.06 2.06-.94-2.06-.94L8.5 2.5l-.94 2.06-2.06.94zm10 10l.94 2.06.94-2.06 2.06-.94-2.06-.94-.94-2.06-.94 2.06-2.06.94z\"/><path d=\"M17.41 7.96l-1.37-1.37c-.4-.4-.92-.59-1.43-.59-.52 0-1.04.2-1.43.59L10.3 9.45l-7.72 7.72c-.78.78-.78 2.05 0 2.83L4 21.41c.39.39.9.59 1.41.59.51 0 1.02-.2 1.41-.59l7.78-7.78 2.81-2.81c.8-.78.8-2.07 0-2.86zM5.41 20L4 18.59l7.72-7.72 1.47 1.35L5.41 20z\"/>\n",
              "  </svg>\n",
              "      </button>\n",
              "      \n",
              "  <style>\n",
              "    .colab-df-container {\n",
              "      display:flex;\n",
              "      flex-wrap:wrap;\n",
              "      gap: 12px;\n",
              "    }\n",
              "\n",
              "    .colab-df-convert {\n",
              "      background-color: #E8F0FE;\n",
              "      border: none;\n",
              "      border-radius: 50%;\n",
              "      cursor: pointer;\n",
              "      display: none;\n",
              "      fill: #1967D2;\n",
              "      height: 32px;\n",
              "      padding: 0 0 0 0;\n",
              "      width: 32px;\n",
              "    }\n",
              "\n",
              "    .colab-df-convert:hover {\n",
              "      background-color: #E2EBFA;\n",
              "      box-shadow: 0px 1px 2px rgba(60, 64, 67, 0.3), 0px 1px 3px 1px rgba(60, 64, 67, 0.15);\n",
              "      fill: #174EA6;\n",
              "    }\n",
              "\n",
              "    [theme=dark] .colab-df-convert {\n",
              "      background-color: #3B4455;\n",
              "      fill: #D2E3FC;\n",
              "    }\n",
              "\n",
              "    [theme=dark] .colab-df-convert:hover {\n",
              "      background-color: #434B5C;\n",
              "      box-shadow: 0px 1px 3px 1px rgba(0, 0, 0, 0.15);\n",
              "      filter: drop-shadow(0px 1px 2px rgba(0, 0, 0, 0.3));\n",
              "      fill: #FFFFFF;\n",
              "    }\n",
              "  </style>\n",
              "\n",
              "      <script>\n",
              "        const buttonEl =\n",
              "          document.querySelector('#df-f1adfb1a-7697-485c-8670-87c0bf96b5e8 button.colab-df-convert');\n",
              "        buttonEl.style.display =\n",
              "          google.colab.kernel.accessAllowed ? 'block' : 'none';\n",
              "\n",
              "        async function convertToInteractive(key) {\n",
              "          const element = document.querySelector('#df-f1adfb1a-7697-485c-8670-87c0bf96b5e8');\n",
              "          const dataTable =\n",
              "            await google.colab.kernel.invokeFunction('convertToInteractive',\n",
              "                                                     [key], {});\n",
              "          if (!dataTable) return;\n",
              "\n",
              "          const docLinkHtml = 'Like what you see? Visit the ' +\n",
              "            '<a target=\"_blank\" href=https://colab.research.google.com/notebooks/data_table.ipynb>data table notebook</a>'\n",
              "            + ' to learn more about interactive tables.';\n",
              "          element.innerHTML = '';\n",
              "          dataTable['output_type'] = 'display_data';\n",
              "          await google.colab.output.renderOutput(dataTable, element);\n",
              "          const docLink = document.createElement('div');\n",
              "          docLink.innerHTML = docLinkHtml;\n",
              "          element.appendChild(docLink);\n",
              "        }\n",
              "      </script>\n",
              "    </div>\n",
              "  </div>\n",
              "  "
            ]
          },
          "metadata": {},
          "execution_count": 25
        }
      ]
    },
    {
      "cell_type": "code",
      "source": [
        "\n",
        "fig=px.sunburst(leaFull, path=['debtDummy', 'D11'], values='weight',\n",
        "            color='debt/income',color_continuous_scale='algae'\n",
        "            )\n",
        "fig.update_layout(title_text='Monthly Debt Preassure by Income',template='presentation',margin=dict(b=40))\n",
        "fig.show()"
      ],
      "metadata": {
        "colab": {
          "base_uri": "https://localhost:8080/",
          "height": 542
        },
        "id": "o-Zk5wMytefL",
        "outputId": "1115ceec-2943-44d9-d5f0-39f557fd9908"
      },
      "execution_count": 26,
      "outputs": [
        {
          "output_type": "display_data",
          "data": {
            "text/html": [
              "<html>\n",
              "<head><meta charset=\"utf-8\" /></head>\n",
              "<body>\n",
              "    <div>            <script src=\"https://cdnjs.cloudflare.com/ajax/libs/mathjax/2.7.5/MathJax.js?config=TeX-AMS-MML_SVG\"></script><script type=\"text/javascript\">if (window.MathJax) {MathJax.Hub.Config({SVG: {font: \"STIX-Web\"}});}</script>                <script type=\"text/javascript\">window.PlotlyConfig = {MathJaxConfig: 'local'};</script>\n",
              "        <script src=\"https://cdn.plot.ly/plotly-2.8.3.min.js\"></script>                <div id=\"1fd0c8f6-5b5c-4021-8ebe-6754e5702588\" class=\"plotly-graph-div\" style=\"height:525px; width:100%;\"></div>            <script type=\"text/javascript\">                                    window.PLOTLYENV=window.PLOTLYENV || {};                                    if (document.getElementById(\"1fd0c8f6-5b5c-4021-8ebe-6754e5702588\")) {                    Plotly.newPlot(                        \"1fd0c8f6-5b5c-4021-8ebe-6754e5702588\",                        [{\"branchvalues\":\"total\",\"customdata\":[[0.6606711901159725],[0.5124996980268111],[0.45985535670172545],[0.43444946052832606],[1.1402280689028417],[0.5640794441001833],[0.0]],\"domain\":{\"x\":[0.0,1.0],\"y\":[0.0,1.0]},\"hovertemplate\":\"labels=%{label}<br>weight=%{value}<br>parent=%{parent}<br>id=%{id}<br>debt/income=%{color}<extra></extra>\",\"ids\":[\"Debt to Pay/25k to 50k\",\"Debt to Pay/50k to 75k\",\"Debt to Pay/75k to 100k\",\"Debt to Pay/Over 100k\",\"Debt to Pay/Under 25k\",\"Debt to Pay\",\"Zero Debt\"],\"labels\":[\"25k to 50k\",\"50k to 75k\",\"75k to 100k\",\"Over 100k\",\"Under 25k\",\"Debt to Pay\",\"Zero Debt\"],\"marker\":{\"coloraxis\":\"coloraxis\",\"colors\":[0.6606711901159725,0.5124996980268111,0.45985535670172545,0.43444946052832606,1.1402280689028417,0.5640794441001833,0.0]},\"name\":\"\",\"parents\":[\"Debt to Pay\",\"Debt to Pay\",\"Debt to Pay\",\"Debt to Pay\",\"Debt to Pay\",\"\",\"\"],\"values\":[23274964.412082475,25224640.72318669,20901984.591240603,53561720.96739449,14188363.971185397,137151674.66508967,118548148.26050644],\"type\":\"sunburst\"}],                        {\"template\":{\"data\":{\"pie\":[{\"automargin\":true,\"type\":\"pie\"}],\"scatter3d\":[{\"line\":{\"width\":3},\"marker\":{\"size\":9},\"type\":\"scatter3d\"}],\"scattergeo\":[{\"line\":{\"width\":3},\"marker\":{\"size\":9},\"type\":\"scattergeo\"}],\"scattergl\":[{\"line\":{\"width\":3},\"marker\":{\"size\":9},\"type\":\"scattergl\"}],\"scatterpolargl\":[{\"line\":{\"width\":3},\"marker\":{\"size\":9},\"type\":\"scatterpolargl\"}],\"scatterpolar\":[{\"line\":{\"width\":3},\"marker\":{\"size\":9},\"type\":\"scatterpolar\"}],\"scatter\":[{\"line\":{\"width\":3},\"marker\":{\"size\":9},\"type\":\"scatter\"}],\"scatterternary\":[{\"line\":{\"width\":3},\"marker\":{\"size\":9},\"type\":\"scatterternary\"}],\"table\":[{\"cells\":{\"height\":30},\"header\":{\"height\":36},\"type\":\"table\"}]},\"layout\":{\"font\":{\"size\":18},\"xaxis\":{\"title\":{\"standoff\":15}},\"yaxis\":{\"title\":{\"standoff\":15}}}},\"coloraxis\":{\"colorbar\":{\"title\":{\"text\":\"debt/income\"}},\"colorscale\":[[0.0,\"rgb(214, 249, 207)\"],[0.09090909090909091,\"rgb(186, 228, 174)\"],[0.18181818181818182,\"rgb(156, 209, 143)\"],[0.2727272727272727,\"rgb(124, 191, 115)\"],[0.36363636363636365,\"rgb(85, 174, 91)\"],[0.45454545454545453,\"rgb(37, 157, 81)\"],[0.5454545454545454,\"rgb(7, 138, 78)\"],[0.6363636363636364,\"rgb(13, 117, 71)\"],[0.7272727272727273,\"rgb(23, 95, 61)\"],[0.8181818181818182,\"rgb(25, 75, 49)\"],[0.9090909090909091,\"rgb(23, 55, 35)\"],[1.0,\"rgb(17, 36, 20)\"]]},\"legend\":{\"tracegroupgap\":0},\"margin\":{\"t\":60,\"b\":40},\"title\":{\"text\":\"Monthly Debt Preassure by Income\"}},                        {\"responsive\": true}                    ).then(function(){\n",
              "                            \n",
              "var gd = document.getElementById('1fd0c8f6-5b5c-4021-8ebe-6754e5702588');\n",
              "var x = new MutationObserver(function (mutations, observer) {{\n",
              "        var display = window.getComputedStyle(gd).display;\n",
              "        if (!display || display === 'none') {{\n",
              "            console.log([gd, 'removed!']);\n",
              "            Plotly.purge(gd);\n",
              "            observer.disconnect();\n",
              "        }}\n",
              "}});\n",
              "\n",
              "// Listen for the removal of the full notebook cells\n",
              "var notebookContainer = gd.closest('#notebook-container');\n",
              "if (notebookContainer) {{\n",
              "    x.observe(notebookContainer, {childList: true});\n",
              "}}\n",
              "\n",
              "// Listen for the clearing of the current output cell\n",
              "var outputEl = gd.closest('.output');\n",
              "if (outputEl) {{\n",
              "    x.observe(outputEl, {childList: true});\n",
              "}}\n",
              "\n",
              "                        })                };                            </script>        </div>\n",
              "</body>\n",
              "</html>"
            ]
          },
          "metadata": {}
        }
      ]
    },
    {
      "cell_type": "markdown",
      "source": [
        "# fourth: rectangle components\n"
      ],
      "metadata": {
        "id": "ynf9dF8dmVEW"
      }
    },
    {
      "cell_type": "code",
      "source": [
        "tograph3=df2[['Q01_3', 'Q03','weight','monthly_income','monthDebt','D11']]\n",
        "tograph3=tograph3.loc[tograph3['Q03']!='Non User']\n",
        "tograph3=tograph3.loc[tograph3['Q03']!='Zero']\n",
        "tograph3=tograph3.loc[tograph3['Q03'].notnull()]\n",
        "tograph3.loc[tograph3['D11'].isnull(),'D11']='No Info'"
      ],
      "metadata": {
        "id": "vGCHPuBKHPU4"
      },
      "execution_count": 27,
      "outputs": []
    },
    {
      "cell_type": "code",
      "source": [
        "tograph3.loc[tograph3['D11']=='Below $25,000','D11']='Under 25k'\n",
        "tograph3.loc[tograph3['D11']=='Between $25,000 and $49,999','D11']='25k to 50k'\n",
        "tograph3.loc[tograph3['D11']=='Between $50,000 and $74,999','D11']='50k to 75k'\n",
        "tograph3.loc[tograph3['D11']=='Between $75,000 and $99,999','D11']='75k to 100k'\n",
        "tograph3.loc[tograph3['D11']=='More than $100,000','D11']='Over 100k'"
      ],
      "metadata": {
        "id": "xEcUdk5mOCx_"
      },
      "execution_count": 28,
      "outputs": []
    },
    {
      "cell_type": "code",
      "source": [
        "totalPeople=tograph3.loc[:,'weight'].sum()\n",
        "totalPeople\n",
        "tograph3['population']=0\n",
        "tograph3.loc[tograph3['D11']=='No Info','population']=tograph3.loc[tograph3['D11']=='No Info','weight'].sum()/totalPeople\n",
        "tograph3.loc[tograph3['D11']=='Under 25k','population']=tograph3.loc[tograph3['D11']=='Under 25k','weight'].sum()/totalPeople\n",
        "tograph3.loc[tograph3['D11']=='25k to 50k','population']=tograph3.loc[tograph3['D11']=='25k to 50k','weight'].sum()/totalPeople\n",
        "tograph3.loc[tograph3['D11']=='50k to 75k','population']=tograph3.loc[tograph3['D11']=='50k to 75k','weight'].sum()/totalPeople\n",
        "tograph3.loc[tograph3['D11']=='75k to 100k','population']=tograph3.loc[tograph3['D11']=='75k to 100k','weight'].sum()/totalPeople\n",
        "tograph3.loc[tograph3['D11']=='Over 100k','population']=tograph3.loc[tograph3['D11']=='Over 100k','weight'].sum()/totalPeople\n",
        "\n",
        "\n",
        "\n",
        "\n",
        "\n",
        "tograph3"
      ],
      "metadata": {
        "colab": {
          "base_uri": "https://localhost:8080/",
          "height": 424
        },
        "id": "tWsXZLkEPAhh",
        "outputId": "2141b966-0515-4bfd-c8b8-ed8e4cae4c70"
      },
      "execution_count": 29,
      "outputs": [
        {
          "output_type": "execute_result",
          "data": {
            "text/plain": [
              "            Q01_3               Q03         weight  monthly_income  monthDebt  \\\n",
              "0     Credit card  $1,001 to $2,000   61611.993224     3125.000000     1500.0   \n",
              "1     Credit card    Less than $500   39536.359426     9166.666667      250.0   \n",
              "2     Credit card  $5,001 to $7,000    51119.84914     7291.666667     6000.0   \n",
              "3     Credit card  $1,001 to $2,000   44332.082801     1666.666667     1500.0   \n",
              "4     Credit card    $501 to $1,000  120583.664337     9166.666667      750.0   \n",
              "...           ...               ...            ...             ...        ...   \n",
              "4028  Credit card  $5,001 to $7,000  114255.973773             NaN     6000.0   \n",
              "4140  Credit card    $501 to $1,000   64351.199492             NaN      750.0   \n",
              "4171  Credit card    Less than $500   64351.199492             NaN      250.0   \n",
              "4202  Credit card    Less than $500   41825.587699             NaN      250.0   \n",
              "4227  Credit card  $3,001 to $4,000   37532.889794             NaN     3500.0   \n",
              "\n",
              "              D11  population  \n",
              "0      25k to 50k    0.167353  \n",
              "1       Over 100k    0.385124  \n",
              "2     75k to 100k    0.150291  \n",
              "3       Under 25k    0.102018  \n",
              "4       Over 100k    0.385124  \n",
              "...           ...         ...  \n",
              "4028      No Info    0.013842  \n",
              "4140      No Info    0.013842  \n",
              "4171      No Info    0.013842  \n",
              "4202      No Info    0.013842  \n",
              "4227      No Info    0.013842  \n",
              "\n",
              "[2133 rows x 7 columns]"
            ],
            "text/html": [
              "\n",
              "  <div id=\"df-a64e9594-3a21-4c52-bffa-0a4466877628\">\n",
              "    <div class=\"colab-df-container\">\n",
              "      <div>\n",
              "<style scoped>\n",
              "    .dataframe tbody tr th:only-of-type {\n",
              "        vertical-align: middle;\n",
              "    }\n",
              "\n",
              "    .dataframe tbody tr th {\n",
              "        vertical-align: top;\n",
              "    }\n",
              "\n",
              "    .dataframe thead th {\n",
              "        text-align: right;\n",
              "    }\n",
              "</style>\n",
              "<table border=\"1\" class=\"dataframe\">\n",
              "  <thead>\n",
              "    <tr style=\"text-align: right;\">\n",
              "      <th></th>\n",
              "      <th>Q01_3</th>\n",
              "      <th>Q03</th>\n",
              "      <th>weight</th>\n",
              "      <th>monthly_income</th>\n",
              "      <th>monthDebt</th>\n",
              "      <th>D11</th>\n",
              "      <th>population</th>\n",
              "    </tr>\n",
              "  </thead>\n",
              "  <tbody>\n",
              "    <tr>\n",
              "      <th>0</th>\n",
              "      <td>Credit card</td>\n",
              "      <td>$1,001 to $2,000</td>\n",
              "      <td>61611.993224</td>\n",
              "      <td>3125.000000</td>\n",
              "      <td>1500.0</td>\n",
              "      <td>25k to 50k</td>\n",
              "      <td>0.167353</td>\n",
              "    </tr>\n",
              "    <tr>\n",
              "      <th>1</th>\n",
              "      <td>Credit card</td>\n",
              "      <td>Less than $500</td>\n",
              "      <td>39536.359426</td>\n",
              "      <td>9166.666667</td>\n",
              "      <td>250.0</td>\n",
              "      <td>Over 100k</td>\n",
              "      <td>0.385124</td>\n",
              "    </tr>\n",
              "    <tr>\n",
              "      <th>2</th>\n",
              "      <td>Credit card</td>\n",
              "      <td>$5,001 to $7,000</td>\n",
              "      <td>51119.84914</td>\n",
              "      <td>7291.666667</td>\n",
              "      <td>6000.0</td>\n",
              "      <td>75k to 100k</td>\n",
              "      <td>0.150291</td>\n",
              "    </tr>\n",
              "    <tr>\n",
              "      <th>3</th>\n",
              "      <td>Credit card</td>\n",
              "      <td>$1,001 to $2,000</td>\n",
              "      <td>44332.082801</td>\n",
              "      <td>1666.666667</td>\n",
              "      <td>1500.0</td>\n",
              "      <td>Under 25k</td>\n",
              "      <td>0.102018</td>\n",
              "    </tr>\n",
              "    <tr>\n",
              "      <th>4</th>\n",
              "      <td>Credit card</td>\n",
              "      <td>$501 to $1,000</td>\n",
              "      <td>120583.664337</td>\n",
              "      <td>9166.666667</td>\n",
              "      <td>750.0</td>\n",
              "      <td>Over 100k</td>\n",
              "      <td>0.385124</td>\n",
              "    </tr>\n",
              "    <tr>\n",
              "      <th>...</th>\n",
              "      <td>...</td>\n",
              "      <td>...</td>\n",
              "      <td>...</td>\n",
              "      <td>...</td>\n",
              "      <td>...</td>\n",
              "      <td>...</td>\n",
              "      <td>...</td>\n",
              "    </tr>\n",
              "    <tr>\n",
              "      <th>4028</th>\n",
              "      <td>Credit card</td>\n",
              "      <td>$5,001 to $7,000</td>\n",
              "      <td>114255.973773</td>\n",
              "      <td>NaN</td>\n",
              "      <td>6000.0</td>\n",
              "      <td>No Info</td>\n",
              "      <td>0.013842</td>\n",
              "    </tr>\n",
              "    <tr>\n",
              "      <th>4140</th>\n",
              "      <td>Credit card</td>\n",
              "      <td>$501 to $1,000</td>\n",
              "      <td>64351.199492</td>\n",
              "      <td>NaN</td>\n",
              "      <td>750.0</td>\n",
              "      <td>No Info</td>\n",
              "      <td>0.013842</td>\n",
              "    </tr>\n",
              "    <tr>\n",
              "      <th>4171</th>\n",
              "      <td>Credit card</td>\n",
              "      <td>Less than $500</td>\n",
              "      <td>64351.199492</td>\n",
              "      <td>NaN</td>\n",
              "      <td>250.0</td>\n",
              "      <td>No Info</td>\n",
              "      <td>0.013842</td>\n",
              "    </tr>\n",
              "    <tr>\n",
              "      <th>4202</th>\n",
              "      <td>Credit card</td>\n",
              "      <td>Less than $500</td>\n",
              "      <td>41825.587699</td>\n",
              "      <td>NaN</td>\n",
              "      <td>250.0</td>\n",
              "      <td>No Info</td>\n",
              "      <td>0.013842</td>\n",
              "    </tr>\n",
              "    <tr>\n",
              "      <th>4227</th>\n",
              "      <td>Credit card</td>\n",
              "      <td>$3,001 to $4,000</td>\n",
              "      <td>37532.889794</td>\n",
              "      <td>NaN</td>\n",
              "      <td>3500.0</td>\n",
              "      <td>No Info</td>\n",
              "      <td>0.013842</td>\n",
              "    </tr>\n",
              "  </tbody>\n",
              "</table>\n",
              "<p>2133 rows × 7 columns</p>\n",
              "</div>\n",
              "      <button class=\"colab-df-convert\" onclick=\"convertToInteractive('df-a64e9594-3a21-4c52-bffa-0a4466877628')\"\n",
              "              title=\"Convert this dataframe to an interactive table.\"\n",
              "              style=\"display:none;\">\n",
              "        \n",
              "  <svg xmlns=\"http://www.w3.org/2000/svg\" height=\"24px\"viewBox=\"0 0 24 24\"\n",
              "       width=\"24px\">\n",
              "    <path d=\"M0 0h24v24H0V0z\" fill=\"none\"/>\n",
              "    <path d=\"M18.56 5.44l.94 2.06.94-2.06 2.06-.94-2.06-.94-.94-2.06-.94 2.06-2.06.94zm-11 1L8.5 8.5l.94-2.06 2.06-.94-2.06-.94L8.5 2.5l-.94 2.06-2.06.94zm10 10l.94 2.06.94-2.06 2.06-.94-2.06-.94-.94-2.06-.94 2.06-2.06.94z\"/><path d=\"M17.41 7.96l-1.37-1.37c-.4-.4-.92-.59-1.43-.59-.52 0-1.04.2-1.43.59L10.3 9.45l-7.72 7.72c-.78.78-.78 2.05 0 2.83L4 21.41c.39.39.9.59 1.41.59.51 0 1.02-.2 1.41-.59l7.78-7.78 2.81-2.81c.8-.78.8-2.07 0-2.86zM5.41 20L4 18.59l7.72-7.72 1.47 1.35L5.41 20z\"/>\n",
              "  </svg>\n",
              "      </button>\n",
              "      \n",
              "  <style>\n",
              "    .colab-df-container {\n",
              "      display:flex;\n",
              "      flex-wrap:wrap;\n",
              "      gap: 12px;\n",
              "    }\n",
              "\n",
              "    .colab-df-convert {\n",
              "      background-color: #E8F0FE;\n",
              "      border: none;\n",
              "      border-radius: 50%;\n",
              "      cursor: pointer;\n",
              "      display: none;\n",
              "      fill: #1967D2;\n",
              "      height: 32px;\n",
              "      padding: 0 0 0 0;\n",
              "      width: 32px;\n",
              "    }\n",
              "\n",
              "    .colab-df-convert:hover {\n",
              "      background-color: #E2EBFA;\n",
              "      box-shadow: 0px 1px 2px rgba(60, 64, 67, 0.3), 0px 1px 3px 1px rgba(60, 64, 67, 0.15);\n",
              "      fill: #174EA6;\n",
              "    }\n",
              "\n",
              "    [theme=dark] .colab-df-convert {\n",
              "      background-color: #3B4455;\n",
              "      fill: #D2E3FC;\n",
              "    }\n",
              "\n",
              "    [theme=dark] .colab-df-convert:hover {\n",
              "      background-color: #434B5C;\n",
              "      box-shadow: 0px 1px 3px 1px rgba(0, 0, 0, 0.15);\n",
              "      filter: drop-shadow(0px 1px 2px rgba(0, 0, 0, 0.3));\n",
              "      fill: #FFFFFF;\n",
              "    }\n",
              "  </style>\n",
              "\n",
              "      <script>\n",
              "        const buttonEl =\n",
              "          document.querySelector('#df-a64e9594-3a21-4c52-bffa-0a4466877628 button.colab-df-convert');\n",
              "        buttonEl.style.display =\n",
              "          google.colab.kernel.accessAllowed ? 'block' : 'none';\n",
              "\n",
              "        async function convertToInteractive(key) {\n",
              "          const element = document.querySelector('#df-a64e9594-3a21-4c52-bffa-0a4466877628');\n",
              "          const dataTable =\n",
              "            await google.colab.kernel.invokeFunction('convertToInteractive',\n",
              "                                                     [key], {});\n",
              "          if (!dataTable) return;\n",
              "\n",
              "          const docLinkHtml = 'Like what you see? Visit the ' +\n",
              "            '<a target=\"_blank\" href=https://colab.research.google.com/notebooks/data_table.ipynb>data table notebook</a>'\n",
              "            + ' to learn more about interactive tables.';\n",
              "          element.innerHTML = '';\n",
              "          dataTable['output_type'] = 'display_data';\n",
              "          await google.colab.output.renderOutput(dataTable, element);\n",
              "          const docLink = document.createElement('div');\n",
              "          docLink.innerHTML = docLinkHtml;\n",
              "          element.appendChild(docLink);\n",
              "        }\n",
              "      </script>\n",
              "    </div>\n",
              "  </div>\n",
              "  "
            ]
          },
          "metadata": {},
          "execution_count": 29
        }
      ]
    },
    {
      "cell_type": "code",
      "source": [
        "tograph3['Debt Weight by Income']='Debt Weight by Income'"
      ],
      "metadata": {
        "id": "8reylg1AVrds"
      },
      "execution_count": 30,
      "outputs": []
    },
    {
      "cell_type": "code",
      "source": [
        "tograph3['count']=(tograph3['weight']/10000).astype(int)\n",
        "\n",
        "\n",
        "def reindex_df(df, weight_col):\n",
        "    \"\"\"expand the dataframe to prepare for resampling\n",
        "    result is 1 row per count per sample\"\"\"\n",
        "    df = df.reindex(df.index.repeat(df[weight_col]))\n",
        "    df.reset_index(drop=True, inplace=True)\n",
        "    return(df)\n",
        "\n",
        "expandedGraph3 = reindex_df(tograph3, weight_col = 'count')\n",
        "expandedGraph3"
      ],
      "metadata": {
        "colab": {
          "base_uri": "https://localhost:8080/",
          "height": 659
        },
        "id": "ZmgO5MqaLlyY",
        "outputId": "f226a885-889c-4af6-d73a-5228b1a4bbe2"
      },
      "execution_count": 31,
      "outputs": [
        {
          "output_type": "execute_result",
          "data": {
            "text/plain": [
              "             Q01_3               Q03        weight  monthly_income  monthDebt  \\\n",
              "0      Credit card  $1,001 to $2,000  61611.993224          3125.0     1500.0   \n",
              "1      Credit card  $1,001 to $2,000  61611.993224          3125.0     1500.0   \n",
              "2      Credit card  $1,001 to $2,000  61611.993224          3125.0     1500.0   \n",
              "3      Credit card  $1,001 to $2,000  61611.993224          3125.0     1500.0   \n",
              "4      Credit card  $1,001 to $2,000  61611.993224          3125.0     1500.0   \n",
              "...            ...               ...           ...             ...        ...   \n",
              "12903  Credit card    Less than $500  41825.587699             NaN      250.0   \n",
              "12904  Credit card    Less than $500  41825.587699             NaN      250.0   \n",
              "12905  Credit card  $3,001 to $4,000  37532.889794             NaN     3500.0   \n",
              "12906  Credit card  $3,001 to $4,000  37532.889794             NaN     3500.0   \n",
              "12907  Credit card  $3,001 to $4,000  37532.889794             NaN     3500.0   \n",
              "\n",
              "              D11  population  Debt Weight by Income  count  \n",
              "0      25k to 50k    0.167353  Debt Weight by Income      6  \n",
              "1      25k to 50k    0.167353  Debt Weight by Income      6  \n",
              "2      25k to 50k    0.167353  Debt Weight by Income      6  \n",
              "3      25k to 50k    0.167353  Debt Weight by Income      6  \n",
              "4      25k to 50k    0.167353  Debt Weight by Income      6  \n",
              "...           ...         ...                    ...    ...  \n",
              "12903     No Info    0.013842  Debt Weight by Income      4  \n",
              "12904     No Info    0.013842  Debt Weight by Income      4  \n",
              "12905     No Info    0.013842  Debt Weight by Income      3  \n",
              "12906     No Info    0.013842  Debt Weight by Income      3  \n",
              "12907     No Info    0.013842  Debt Weight by Income      3  \n",
              "\n",
              "[12908 rows x 9 columns]"
            ],
            "text/html": [
              "\n",
              "  <div id=\"df-84b1466e-ef47-4bb3-b28d-2e13e03131ef\">\n",
              "    <div class=\"colab-df-container\">\n",
              "      <div>\n",
              "<style scoped>\n",
              "    .dataframe tbody tr th:only-of-type {\n",
              "        vertical-align: middle;\n",
              "    }\n",
              "\n",
              "    .dataframe tbody tr th {\n",
              "        vertical-align: top;\n",
              "    }\n",
              "\n",
              "    .dataframe thead th {\n",
              "        text-align: right;\n",
              "    }\n",
              "</style>\n",
              "<table border=\"1\" class=\"dataframe\">\n",
              "  <thead>\n",
              "    <tr style=\"text-align: right;\">\n",
              "      <th></th>\n",
              "      <th>Q01_3</th>\n",
              "      <th>Q03</th>\n",
              "      <th>weight</th>\n",
              "      <th>monthly_income</th>\n",
              "      <th>monthDebt</th>\n",
              "      <th>D11</th>\n",
              "      <th>population</th>\n",
              "      <th>Debt Weight by Income</th>\n",
              "      <th>count</th>\n",
              "    </tr>\n",
              "  </thead>\n",
              "  <tbody>\n",
              "    <tr>\n",
              "      <th>0</th>\n",
              "      <td>Credit card</td>\n",
              "      <td>$1,001 to $2,000</td>\n",
              "      <td>61611.993224</td>\n",
              "      <td>3125.0</td>\n",
              "      <td>1500.0</td>\n",
              "      <td>25k to 50k</td>\n",
              "      <td>0.167353</td>\n",
              "      <td>Debt Weight by Income</td>\n",
              "      <td>6</td>\n",
              "    </tr>\n",
              "    <tr>\n",
              "      <th>1</th>\n",
              "      <td>Credit card</td>\n",
              "      <td>$1,001 to $2,000</td>\n",
              "      <td>61611.993224</td>\n",
              "      <td>3125.0</td>\n",
              "      <td>1500.0</td>\n",
              "      <td>25k to 50k</td>\n",
              "      <td>0.167353</td>\n",
              "      <td>Debt Weight by Income</td>\n",
              "      <td>6</td>\n",
              "    </tr>\n",
              "    <tr>\n",
              "      <th>2</th>\n",
              "      <td>Credit card</td>\n",
              "      <td>$1,001 to $2,000</td>\n",
              "      <td>61611.993224</td>\n",
              "      <td>3125.0</td>\n",
              "      <td>1500.0</td>\n",
              "      <td>25k to 50k</td>\n",
              "      <td>0.167353</td>\n",
              "      <td>Debt Weight by Income</td>\n",
              "      <td>6</td>\n",
              "    </tr>\n",
              "    <tr>\n",
              "      <th>3</th>\n",
              "      <td>Credit card</td>\n",
              "      <td>$1,001 to $2,000</td>\n",
              "      <td>61611.993224</td>\n",
              "      <td>3125.0</td>\n",
              "      <td>1500.0</td>\n",
              "      <td>25k to 50k</td>\n",
              "      <td>0.167353</td>\n",
              "      <td>Debt Weight by Income</td>\n",
              "      <td>6</td>\n",
              "    </tr>\n",
              "    <tr>\n",
              "      <th>4</th>\n",
              "      <td>Credit card</td>\n",
              "      <td>$1,001 to $2,000</td>\n",
              "      <td>61611.993224</td>\n",
              "      <td>3125.0</td>\n",
              "      <td>1500.0</td>\n",
              "      <td>25k to 50k</td>\n",
              "      <td>0.167353</td>\n",
              "      <td>Debt Weight by Income</td>\n",
              "      <td>6</td>\n",
              "    </tr>\n",
              "    <tr>\n",
              "      <th>...</th>\n",
              "      <td>...</td>\n",
              "      <td>...</td>\n",
              "      <td>...</td>\n",
              "      <td>...</td>\n",
              "      <td>...</td>\n",
              "      <td>...</td>\n",
              "      <td>...</td>\n",
              "      <td>...</td>\n",
              "      <td>...</td>\n",
              "    </tr>\n",
              "    <tr>\n",
              "      <th>12903</th>\n",
              "      <td>Credit card</td>\n",
              "      <td>Less than $500</td>\n",
              "      <td>41825.587699</td>\n",
              "      <td>NaN</td>\n",
              "      <td>250.0</td>\n",
              "      <td>No Info</td>\n",
              "      <td>0.013842</td>\n",
              "      <td>Debt Weight by Income</td>\n",
              "      <td>4</td>\n",
              "    </tr>\n",
              "    <tr>\n",
              "      <th>12904</th>\n",
              "      <td>Credit card</td>\n",
              "      <td>Less than $500</td>\n",
              "      <td>41825.587699</td>\n",
              "      <td>NaN</td>\n",
              "      <td>250.0</td>\n",
              "      <td>No Info</td>\n",
              "      <td>0.013842</td>\n",
              "      <td>Debt Weight by Income</td>\n",
              "      <td>4</td>\n",
              "    </tr>\n",
              "    <tr>\n",
              "      <th>12905</th>\n",
              "      <td>Credit card</td>\n",
              "      <td>$3,001 to $4,000</td>\n",
              "      <td>37532.889794</td>\n",
              "      <td>NaN</td>\n",
              "      <td>3500.0</td>\n",
              "      <td>No Info</td>\n",
              "      <td>0.013842</td>\n",
              "      <td>Debt Weight by Income</td>\n",
              "      <td>3</td>\n",
              "    </tr>\n",
              "    <tr>\n",
              "      <th>12906</th>\n",
              "      <td>Credit card</td>\n",
              "      <td>$3,001 to $4,000</td>\n",
              "      <td>37532.889794</td>\n",
              "      <td>NaN</td>\n",
              "      <td>3500.0</td>\n",
              "      <td>No Info</td>\n",
              "      <td>0.013842</td>\n",
              "      <td>Debt Weight by Income</td>\n",
              "      <td>3</td>\n",
              "    </tr>\n",
              "    <tr>\n",
              "      <th>12907</th>\n",
              "      <td>Credit card</td>\n",
              "      <td>$3,001 to $4,000</td>\n",
              "      <td>37532.889794</td>\n",
              "      <td>NaN</td>\n",
              "      <td>3500.0</td>\n",
              "      <td>No Info</td>\n",
              "      <td>0.013842</td>\n",
              "      <td>Debt Weight by Income</td>\n",
              "      <td>3</td>\n",
              "    </tr>\n",
              "  </tbody>\n",
              "</table>\n",
              "<p>12908 rows × 9 columns</p>\n",
              "</div>\n",
              "      <button class=\"colab-df-convert\" onclick=\"convertToInteractive('df-84b1466e-ef47-4bb3-b28d-2e13e03131ef')\"\n",
              "              title=\"Convert this dataframe to an interactive table.\"\n",
              "              style=\"display:none;\">\n",
              "        \n",
              "  <svg xmlns=\"http://www.w3.org/2000/svg\" height=\"24px\"viewBox=\"0 0 24 24\"\n",
              "       width=\"24px\">\n",
              "    <path d=\"M0 0h24v24H0V0z\" fill=\"none\"/>\n",
              "    <path d=\"M18.56 5.44l.94 2.06.94-2.06 2.06-.94-2.06-.94-.94-2.06-.94 2.06-2.06.94zm-11 1L8.5 8.5l.94-2.06 2.06-.94-2.06-.94L8.5 2.5l-.94 2.06-2.06.94zm10 10l.94 2.06.94-2.06 2.06-.94-2.06-.94-.94-2.06-.94 2.06-2.06.94z\"/><path d=\"M17.41 7.96l-1.37-1.37c-.4-.4-.92-.59-1.43-.59-.52 0-1.04.2-1.43.59L10.3 9.45l-7.72 7.72c-.78.78-.78 2.05 0 2.83L4 21.41c.39.39.9.59 1.41.59.51 0 1.02-.2 1.41-.59l7.78-7.78 2.81-2.81c.8-.78.8-2.07 0-2.86zM5.41 20L4 18.59l7.72-7.72 1.47 1.35L5.41 20z\"/>\n",
              "  </svg>\n",
              "      </button>\n",
              "      \n",
              "  <style>\n",
              "    .colab-df-container {\n",
              "      display:flex;\n",
              "      flex-wrap:wrap;\n",
              "      gap: 12px;\n",
              "    }\n",
              "\n",
              "    .colab-df-convert {\n",
              "      background-color: #E8F0FE;\n",
              "      border: none;\n",
              "      border-radius: 50%;\n",
              "      cursor: pointer;\n",
              "      display: none;\n",
              "      fill: #1967D2;\n",
              "      height: 32px;\n",
              "      padding: 0 0 0 0;\n",
              "      width: 32px;\n",
              "    }\n",
              "\n",
              "    .colab-df-convert:hover {\n",
              "      background-color: #E2EBFA;\n",
              "      box-shadow: 0px 1px 2px rgba(60, 64, 67, 0.3), 0px 1px 3px 1px rgba(60, 64, 67, 0.15);\n",
              "      fill: #174EA6;\n",
              "    }\n",
              "\n",
              "    [theme=dark] .colab-df-convert {\n",
              "      background-color: #3B4455;\n",
              "      fill: #D2E3FC;\n",
              "    }\n",
              "\n",
              "    [theme=dark] .colab-df-convert:hover {\n",
              "      background-color: #434B5C;\n",
              "      box-shadow: 0px 1px 3px 1px rgba(0, 0, 0, 0.15);\n",
              "      filter: drop-shadow(0px 1px 2px rgba(0, 0, 0, 0.3));\n",
              "      fill: #FFFFFF;\n",
              "    }\n",
              "  </style>\n",
              "\n",
              "      <script>\n",
              "        const buttonEl =\n",
              "          document.querySelector('#df-84b1466e-ef47-4bb3-b28d-2e13e03131ef button.colab-df-convert');\n",
              "        buttonEl.style.display =\n",
              "          google.colab.kernel.accessAllowed ? 'block' : 'none';\n",
              "\n",
              "        async function convertToInteractive(key) {\n",
              "          const element = document.querySelector('#df-84b1466e-ef47-4bb3-b28d-2e13e03131ef');\n",
              "          const dataTable =\n",
              "            await google.colab.kernel.invokeFunction('convertToInteractive',\n",
              "                                                     [key], {});\n",
              "          if (!dataTable) return;\n",
              "\n",
              "          const docLinkHtml = 'Like what you see? Visit the ' +\n",
              "            '<a target=\"_blank\" href=https://colab.research.google.com/notebooks/data_table.ipynb>data table notebook</a>'\n",
              "            + ' to learn more about interactive tables.';\n",
              "          element.innerHTML = '';\n",
              "          dataTable['output_type'] = 'display_data';\n",
              "          await google.colab.output.renderOutput(dataTable, element);\n",
              "          const docLink = document.createElement('div');\n",
              "          docLink.innerHTML = docLinkHtml;\n",
              "          element.appendChild(docLink);\n",
              "        }\n",
              "      </script>\n",
              "    </div>\n",
              "  </div>\n",
              "  "
            ]
          },
          "metadata": {},
          "execution_count": 31
        }
      ]
    },
    {
      "cell_type": "code",
      "source": [
        "\n",
        "fig=px.treemap(expandedGraph3, path=['Debt Weight by Income','D11'], values='monthDebt',color='population',color_continuous_scale='algae')\n",
        "fig.update_layout(title_text='Monthly Total Debt by Income',template='presentation')\n"
      ],
      "metadata": {
        "colab": {
          "base_uri": "https://localhost:8080/",
          "height": 542
        },
        "outputId": "943543f7-339b-43db-a7ff-a0b98122cb13",
        "id": "5_g7bJ9JV9RD"
      },
      "execution_count": 32,
      "outputs": [
        {
          "output_type": "display_data",
          "data": {
            "text/html": [
              "<html>\n",
              "<head><meta charset=\"utf-8\" /></head>\n",
              "<body>\n",
              "    <div>            <script src=\"https://cdnjs.cloudflare.com/ajax/libs/mathjax/2.7.5/MathJax.js?config=TeX-AMS-MML_SVG\"></script><script type=\"text/javascript\">if (window.MathJax) {MathJax.Hub.Config({SVG: {font: \"STIX-Web\"}});}</script>                <script type=\"text/javascript\">window.PlotlyConfig = {MathJaxConfig: 'local'};</script>\n",
              "        <script src=\"https://cdn.plot.ly/plotly-2.8.3.min.js\"></script>                <div id=\"67206a21-361f-42ff-9ade-3591023f2401\" class=\"plotly-graph-div\" style=\"height:525px; width:100%;\"></div>            <script type=\"text/javascript\">                                    window.PLOTLYENV=window.PLOTLYENV || {};                                    if (document.getElementById(\"67206a21-361f-42ff-9ade-3591023f2401\")) {                    Plotly.newPlot(                        \"67206a21-361f-42ff-9ade-3591023f2401\",                        [{\"branchvalues\":\"total\",\"customdata\":[[0.16735339644609173],[0.1813721054269916],[0.15029101879064968],[0.013841732382761214],[0.38512350715939603],[0.10201823979411134],[0.26977624135720346]],\"domain\":{\"x\":[0.0,1.0],\"y\":[0.0,1.0]},\"hovertemplate\":\"labels=%{label}<br>monthDebt=%{value}<br>parent=%{parent}<br>id=%{id}<br>population=%{color}<extra></extra>\",\"ids\":[\"Debt Weight by Income/25k to 50k\",\"Debt Weight by Income/50k to 75k\",\"Debt Weight by Income/75k to 100k\",\"Debt Weight by Income/No Info\",\"Debt Weight by Income/Over 100k\",\"Debt Weight by Income/Under 25k\",\"Debt Weight by Income\"],\"labels\":[\"25k to 50k\",\"50k to 75k\",\"75k to 100k\",\"No Info\",\"Over 100k\",\"Under 25k\",\"Debt Weight by Income\"],\"marker\":{\"coloraxis\":\"coloraxis\",\"colors\":[0.16735339644609173,0.1813721054269916,0.15029101879064968,0.013841732382761214,0.38512350715939603,0.10201823979411134,0.26977624135720346]},\"name\":\"\",\"parents\":[\"Debt Weight by Income\",\"Debt Weight by Income\",\"Debt Weight by Income\",\"Debt Weight by Income\",\"Debt Weight by Income\",\"Debt Weight by Income\",\"\"],\"values\":[4373500.0,6180750.0,6407750.0,671750.0,20314000.0,2451500.0,40399250.0],\"type\":\"treemap\"}],                        {\"template\":{\"data\":{\"pie\":[{\"automargin\":true,\"type\":\"pie\"}],\"scatter3d\":[{\"line\":{\"width\":3},\"marker\":{\"size\":9},\"type\":\"scatter3d\"}],\"scattergeo\":[{\"line\":{\"width\":3},\"marker\":{\"size\":9},\"type\":\"scattergeo\"}],\"scattergl\":[{\"line\":{\"width\":3},\"marker\":{\"size\":9},\"type\":\"scattergl\"}],\"scatterpolargl\":[{\"line\":{\"width\":3},\"marker\":{\"size\":9},\"type\":\"scatterpolargl\"}],\"scatterpolar\":[{\"line\":{\"width\":3},\"marker\":{\"size\":9},\"type\":\"scatterpolar\"}],\"scatter\":[{\"line\":{\"width\":3},\"marker\":{\"size\":9},\"type\":\"scatter\"}],\"scatterternary\":[{\"line\":{\"width\":3},\"marker\":{\"size\":9},\"type\":\"scatterternary\"}],\"table\":[{\"cells\":{\"height\":30},\"header\":{\"height\":36},\"type\":\"table\"}]},\"layout\":{\"font\":{\"size\":18},\"xaxis\":{\"title\":{\"standoff\":15}},\"yaxis\":{\"title\":{\"standoff\":15}}}},\"coloraxis\":{\"colorbar\":{\"title\":{\"text\":\"population\"}},\"colorscale\":[[0.0,\"rgb(214, 249, 207)\"],[0.09090909090909091,\"rgb(186, 228, 174)\"],[0.18181818181818182,\"rgb(156, 209, 143)\"],[0.2727272727272727,\"rgb(124, 191, 115)\"],[0.36363636363636365,\"rgb(85, 174, 91)\"],[0.45454545454545453,\"rgb(37, 157, 81)\"],[0.5454545454545454,\"rgb(7, 138, 78)\"],[0.6363636363636364,\"rgb(13, 117, 71)\"],[0.7272727272727273,\"rgb(23, 95, 61)\"],[0.8181818181818182,\"rgb(25, 75, 49)\"],[0.9090909090909091,\"rgb(23, 55, 35)\"],[1.0,\"rgb(17, 36, 20)\"]]},\"legend\":{\"tracegroupgap\":0},\"margin\":{\"t\":60},\"title\":{\"text\":\"Monthly Total Debt by Income\"}},                        {\"responsive\": true}                    ).then(function(){\n",
              "                            \n",
              "var gd = document.getElementById('67206a21-361f-42ff-9ade-3591023f2401');\n",
              "var x = new MutationObserver(function (mutations, observer) {{\n",
              "        var display = window.getComputedStyle(gd).display;\n",
              "        if (!display || display === 'none') {{\n",
              "            console.log([gd, 'removed!']);\n",
              "            Plotly.purge(gd);\n",
              "            observer.disconnect();\n",
              "        }}\n",
              "}});\n",
              "\n",
              "// Listen for the removal of the full notebook cells\n",
              "var notebookContainer = gd.closest('#notebook-container');\n",
              "if (notebookContainer) {{\n",
              "    x.observe(notebookContainer, {childList: true});\n",
              "}}\n",
              "\n",
              "// Listen for the clearing of the current output cell\n",
              "var outputEl = gd.closest('.output');\n",
              "if (outputEl) {{\n",
              "    x.observe(outputEl, {childList: true});\n",
              "}}\n",
              "\n",
              "                        })                };                            </script>        </div>\n",
              "</body>\n",
              "</html>"
            ]
          },
          "metadata": {}
        }
      ]
    },
    {
      "cell_type": "markdown",
      "source": [
        "# fifht: pca and cluster"
      ],
      "metadata": {
        "id": "VBHLV3CuChkW"
      }
    },
    {
      "cell_type": "code",
      "source": [
        "from sklearn.decomposition import PCA\n",
        "from sklearn.cluster import KMeans\n",
        "import matplotlib.pyplot as plt"
      ],
      "metadata": {
        "id": "SvNt0ia3CuVf"
      },
      "execution_count": 33,
      "outputs": []
    },
    {
      "cell_type": "code",
      "source": [
        "grapho=df2[['Q05','Q01_3','weight','monthDebt','Q12_1','Q12_2','Q12_3','Q12_4','Q12_5','Q12_6','Q12_7','Q12_8','Q12_9']]\n",
        "grapho=grapho.loc[grapho['Q12_9'].notnull()]\n",
        "grapho['count']=(grapho['weight']/10000).astype(int)\n",
        "def reindex_df(df, weight_col):\n",
        "    \"\"\"expand the dataframe to prepare for resampling\n",
        "    result is 1 row per count per sample\"\"\"\n",
        "    df = df.reindex(df.index.repeat(df[weight_col]))\n",
        "    df.reset_index(drop=True, inplace=True)\n",
        "    return(df)\n",
        "\n",
        "expGraph0 = reindex_df(grapho, weight_col = 'count')\n",
        "expGraph0.shape\n"
      ],
      "metadata": {
        "colab": {
          "base_uri": "https://localhost:8080/"
        },
        "id": "b_8A0CFrzUUC",
        "outputId": "7b634b65-b17a-409a-d817-3d80297f287c"
      },
      "execution_count": 34,
      "outputs": [
        {
          "output_type": "execute_result",
          "data": {
            "text/plain": [
              "(12735, 14)"
            ]
          },
          "metadata": {},
          "execution_count": 34
        }
      ]
    },
    {
      "cell_type": "code",
      "source": [
        "def createColumn(newname,columnName):\n",
        "  expGraph0[newname]=1\n",
        "  expGraph0.loc[expGraph0[columnName]=='Slightly important',newname]=2\n",
        "  expGraph0.loc[expGraph0[columnName]=='Somewhat important',newname]=3\n",
        "  expGraph0.loc[expGraph0[columnName]=='Very important',newname]=4\n",
        "  expGraph0.loc[expGraph0[columnName]=='Extremely important',newname]=5"
      ],
      "metadata": {
        "id": "DA6t80jc3Op_"
      },
      "execution_count": 35,
      "outputs": []
    },
    {
      "cell_type": "code",
      "source": [
        "createColumn('costumer service','Q12_1')\n",
        "createColumn('safety','Q12_2')\n",
        "createColumn('app','Q12_3')\n",
        "createColumn('BNPL','Q12_4')\n",
        "createColumn('interest rates','Q12_5')\n",
        "createColumn('rewards program','Q12_6')\n",
        "createColumn('educational tools to improve credit scores','Q12_7')\n",
        "createColumn('easy in improving credit score','Q12_8')\n",
        "createColumn('easy in improving credit score of child added','Q12_9')"
      ],
      "metadata": {
        "id": "TJbNpe991A8_"
      },
      "execution_count": 36,
      "outputs": []
    },
    {
      "cell_type": "code",
      "source": [
        "!pip install joypy"
      ],
      "metadata": {
        "colab": {
          "base_uri": "https://localhost:8080/"
        },
        "id": "jTFAkSJ24AuD",
        "outputId": "bc290622-b5fe-4914-b0c0-dd79dcf9e781"
      },
      "execution_count": 37,
      "outputs": [
        {
          "output_type": "stream",
          "name": "stdout",
          "text": [
            "Requirement already satisfied: joypy in /usr/local/lib/python3.7/dist-packages (0.2.6)\n",
            "Requirement already satisfied: scipy>=0.11.0 in /usr/local/lib/python3.7/dist-packages (from joypy) (1.4.1)\n",
            "Requirement already satisfied: matplotlib in /usr/local/lib/python3.7/dist-packages (from joypy) (3.2.2)\n",
            "Requirement already satisfied: pandas>=0.20.0 in /usr/local/lib/python3.7/dist-packages (from joypy) (1.3.5)\n",
            "Requirement already satisfied: numpy>=1.16.5 in /usr/local/lib/python3.7/dist-packages (from joypy) (1.21.5)\n",
            "Requirement already satisfied: python-dateutil>=2.7.3 in /usr/local/lib/python3.7/dist-packages (from pandas>=0.20.0->joypy) (2.8.2)\n",
            "Requirement already satisfied: pytz>=2017.3 in /usr/local/lib/python3.7/dist-packages (from pandas>=0.20.0->joypy) (2018.9)\n",
            "Requirement already satisfied: six>=1.5 in /usr/local/lib/python3.7/dist-packages (from python-dateutil>=2.7.3->pandas>=0.20.0->joypy) (1.15.0)\n",
            "Requirement already satisfied: kiwisolver>=1.0.1 in /usr/local/lib/python3.7/dist-packages (from matplotlib->joypy) (1.3.2)\n",
            "Requirement already satisfied: cycler>=0.10 in /usr/local/lib/python3.7/dist-packages (from matplotlib->joypy) (0.11.0)\n",
            "Requirement already satisfied: pyparsing!=2.0.4,!=2.1.2,!=2.1.6,>=2.0.1 in /usr/local/lib/python3.7/dist-packages (from matplotlib->joypy) (3.0.7)\n"
          ]
        }
      ]
    },
    {
      "cell_type": "code",
      "source": [
        "from joypy import joyplot\n",
        "import matplotlib.pyplot as plt\n",
        "from matplotlib import cm"
      ],
      "metadata": {
        "id": "VyGcJFq841Eg"
      },
      "execution_count": 38,
      "outputs": []
    },
    {
      "cell_type": "code",
      "source": [
        "toJoy=expGraph0[['costumer service','safety','app','BNPL','interest rates','rewards program','educational tools to improve credit scores','easy in improving credit score','easy in improving credit score of child added']]\n",
        "stackedJoy=pd.DataFrame(toJoy.stack())\n",
        "stackedJoy.reset_index(inplace=True)\n",
        "stackedJoy.drop('level_0',axis=1,inplace=True)\n",
        "stackedJoy.rename(columns={'level_1':'separator',0:'intensity'},inplace=True)\n",
        "expGraph0['count2']=(expGraph0['monthDebt']/1000).astype(int)"
      ],
      "metadata": {
        "id": "8ouzavSF5Wx6"
      },
      "execution_count": 39,
      "outputs": []
    },
    {
      "cell_type": "code",
      "source": [
        "toGetden=toJoy.to_numpy().transpose()\n",
        "print(np.histogram(toGetden[0],bins=[1,2,3,4,5,6],density=True)[0])\n",
        "np.histogram(toGetden[1],bins=[1,2,3,4,5,6],density=True)[0]\n",
        "densities=np.stack([np.histogram(toGetden[i],bins=[1,2,3,4,5,6],density=True)[0] for i in range(9)])"
      ],
      "metadata": {
        "colab": {
          "base_uri": "https://localhost:8080/"
        },
        "id": "Nw6bfnuH_1m9",
        "outputId": "41688b6d-ed73-4678-f9e0-4c7f9d705f8d"
      },
      "execution_count": 40,
      "outputs": [
        {
          "output_type": "stream",
          "name": "stdout",
          "text": [
            "[0.03674912 0.07428347 0.24326659 0.36686298 0.27883785]\n"
          ]
        }
      ]
    },
    {
      "cell_type": "code",
      "source": [
        "reduced_data = PCA(n_components=2).fit_transform(densities)"
      ],
      "metadata": {
        "id": "rsiCmWE0C1z8"
      },
      "execution_count": 41,
      "outputs": []
    },
    {
      "cell_type": "code",
      "source": [
        "kmeans = KMeans(n_clusters=4)\n",
        "kmeans.fit(reduced_data)\n"
      ],
      "metadata": {
        "colab": {
          "base_uri": "https://localhost:8080/"
        },
        "id": "8aAbmhqREE9Y",
        "outputId": "0c47cf42-b0e0-49f3-b245-7ef79abbca72"
      },
      "execution_count": 42,
      "outputs": [
        {
          "output_type": "execute_result",
          "data": {
            "text/plain": [
              "KMeans(n_clusters=4)"
            ]
          },
          "metadata": {},
          "execution_count": 42
        }
      ]
    },
    {
      "cell_type": "code",
      "source": [
        "toScatter=pd.DataFrame({'x':reduced_data.transpose()[0],'y':reduced_data.transpose()[1],'cluster':kmeans.labels_,'label':['costumer service', 'safety', 'app', 'BNPL', 'interest rates',\n",
        "       'rewards program', 'educational tools to improve credit scores',\n",
        "       'easy in improving credit score',\n",
        "       'easy in improving credit score of child added']})\n"
      ],
      "metadata": {
        "id": "xJk9tJ4HE613"
      },
      "execution_count": 43,
      "outputs": []
    },
    {
      "cell_type": "code",
      "source": [
        "fig=px.scatter(toScatter,x='x',y='y',template='presentation')\n",
        "opac=0.3\n",
        "\n",
        "fig.add_shape(type=\"rect\",\n",
        "    xref=\"x\", yref=\"y\",\n",
        "    x0=0, y0=0,\n",
        "    x1=0.33, y1=0.127,\n",
        "    opacity=opac,\n",
        "    fillcolor=cGrad[0],\n",
        "    line_color=cGrad[0],\n",
        ")\n",
        "fig.add_shape(type=\"rect\",\n",
        "    xref=\"x\", yref=\"y\",\n",
        "    x0=0, y0=0,\n",
        "    x1=0.33, y1=-0.127,\n",
        "    opacity=opac,\n",
        "    fillcolor=cGrad[3],\n",
        "    line_color=cGrad[3],\n",
        ")\n",
        "fig.add_shape(type=\"rect\",\n",
        "    xref=\"x\", yref=\"y\",\n",
        "    x0=0, y0=0,\n",
        "    x1=-0.27, y1=-0.127,#\n",
        "    opacity=opac,\n",
        "    fillcolor=cGrad[6],\n",
        "    line_color=cGrad[6],\n",
        ")\n",
        "fig.add_shape(type=\"rect\",\n",
        "    xref=\"x\", yref=\"y\",\n",
        "    x0=0, y0=0,\n",
        "    x1=-0.27, y1=0.127,\n",
        "    opacity=opac,\n",
        "    fillcolor=cGrad[9],\n",
        "    line_color=cGrad[9],\n",
        ")\n",
        "fig.add_annotation(text=toScatter.loc[0,'label'],\n",
        "                  xref='x', yref=\"y\",\n",
        "                  x=toScatter.loc[0,'x'], y=toScatter.loc[0,'y']+0.01, showarrow=False)\n",
        "fig.add_annotation(text=toScatter.loc[1,'label'],\n",
        "                  xref='x', yref=\"y\",\n",
        "                  x=toScatter.loc[1,'x'], y=toScatter.loc[1,'y']+0.01, showarrow=False)\n",
        "fig.add_annotation(text=toScatter.loc[2,'label'],\n",
        "                  xref='x', yref=\"y\",\n",
        "                  x=toScatter.loc[2,'x'], y=toScatter.loc[2,'y']-0.007, showarrow=False)\n",
        "fig.add_annotation(text=toScatter.loc[3,'label'],\n",
        "                  xref='x', yref=\"y\",\n",
        "                  x=toScatter.loc[3,'x'], y=toScatter.loc[3,'y']+0.01, showarrow=False)\n",
        "fig.add_annotation(text=toScatter.loc[4,'label'],\n",
        "                  xref='x', yref=\"y\",\n",
        "                  x=toScatter.loc[4,'x'], y=toScatter.loc[4,'y']+0.01, showarrow=False)\n",
        "fig.add_annotation(text=toScatter.loc[5,'label'],\n",
        "                  xref='x', yref=\"y\",\n",
        "                  x=toScatter.loc[5,'x'], y=toScatter.loc[5,'y']+0.011, showarrow=False)\n",
        "fig.add_annotation(text=toScatter.loc[7,'label'],\n",
        "                  xref='x', yref=\"y\",\n",
        "                  x=toScatter.loc[7,'x'], y=toScatter.loc[7,'y']+0.0105, showarrow=False)\n",
        "\n",
        "\n",
        "fig.add_annotation(text=toScatter.loc[8,'label'],\n",
        "                  xref='x', yref=\"y\",\n",
        "                  x=toScatter.loc[8,'x']-0.005, y=toScatter.loc[8,'y']-0.002,\n",
        "                  axref='pixel',ayref='pixel',\n",
        "                  ax=-135,ay=50,showarrow=True)\n",
        "\n",
        "fig.add_annotation(text=toScatter.loc[6,'label'],\n",
        "                  xref='x', yref=\"y\",\n",
        "                  x=toScatter.loc[6,'x']+0.0028, y=toScatter.loc[6,'y']-0.0038,\n",
        "                  axref='pixel',ayref='pixel',\n",
        "                  ax=30,ay=50,showarrow=True)\n",
        "\n",
        "\n",
        "fig.update_layout(title='PCA of Preference Distributions')\n",
        "\n",
        "\n",
        "fig.show()\n"
      ],
      "metadata": {
        "colab": {
          "base_uri": "https://localhost:8080/",
          "height": 542
        },
        "id": "JEozZPg8MxCP",
        "outputId": "49bcae2a-555d-45e1-e248-63043e217f67"
      },
      "execution_count": 50,
      "outputs": [
        {
          "output_type": "display_data",
          "data": {
            "text/html": [
              "<html>\n",
              "<head><meta charset=\"utf-8\" /></head>\n",
              "<body>\n",
              "    <div>            <script src=\"https://cdnjs.cloudflare.com/ajax/libs/mathjax/2.7.5/MathJax.js?config=TeX-AMS-MML_SVG\"></script><script type=\"text/javascript\">if (window.MathJax) {MathJax.Hub.Config({SVG: {font: \"STIX-Web\"}});}</script>                <script type=\"text/javascript\">window.PlotlyConfig = {MathJaxConfig: 'local'};</script>\n",
              "        <script src=\"https://cdn.plot.ly/plotly-2.8.3.min.js\"></script>                <div id=\"258cb06c-96dc-4b60-b87f-50f00665f07d\" class=\"plotly-graph-div\" style=\"height:525px; width:100%;\"></div>            <script type=\"text/javascript\">                                    window.PLOTLYENV=window.PLOTLYENV || {};                                    if (document.getElementById(\"258cb06c-96dc-4b60-b87f-50f00665f07d\")) {                    Plotly.newPlot(                        \"258cb06c-96dc-4b60-b87f-50f00665f07d\",                        [{\"hovertemplate\":\"x=%{x}<br>y=%{y}<extra></extra>\",\"legendgroup\":\"\",\"marker\":{\"color\":\"#1F77B4\",\"symbol\":\"circle\"},\"mode\":\"markers\",\"name\":\"\",\"orientation\":\"v\",\"showlegend\":false,\"x\":[-0.13102847583320268,-0.2311672684714139,0.051437870740003944,0.1756642453859604,-0.15026696237126919,-0.16329785519418064,0.1345830371698762,0.0340689951410451,0.28000641343318083],\"xaxis\":\"x\",\"y\":[-0.0782616021578071,0.07634711844975911,-0.05358463276757595,-0.01958802985126845,0.044431726107660226,0.014978487380120666,-0.05329707483121643,-0.042994455353732045,0.11196846302406012],\"yaxis\":\"y\",\"type\":\"scatter\"}],                        {\"template\":{\"data\":{\"pie\":[{\"automargin\":true,\"type\":\"pie\"}],\"scatter3d\":[{\"line\":{\"width\":3},\"marker\":{\"size\":9},\"type\":\"scatter3d\"}],\"scattergeo\":[{\"line\":{\"width\":3},\"marker\":{\"size\":9},\"type\":\"scattergeo\"}],\"scattergl\":[{\"line\":{\"width\":3},\"marker\":{\"size\":9},\"type\":\"scattergl\"}],\"scatterpolargl\":[{\"line\":{\"width\":3},\"marker\":{\"size\":9},\"type\":\"scatterpolargl\"}],\"scatterpolar\":[{\"line\":{\"width\":3},\"marker\":{\"size\":9},\"type\":\"scatterpolar\"}],\"scatter\":[{\"line\":{\"width\":3},\"marker\":{\"size\":9},\"type\":\"scatter\"}],\"scatterternary\":[{\"line\":{\"width\":3},\"marker\":{\"size\":9},\"type\":\"scatterternary\"}],\"table\":[{\"cells\":{\"height\":30},\"header\":{\"height\":36},\"type\":\"table\"}]},\"layout\":{\"font\":{\"size\":18},\"xaxis\":{\"title\":{\"standoff\":15}},\"yaxis\":{\"title\":{\"standoff\":15}}}},\"xaxis\":{\"anchor\":\"y\",\"domain\":[0.0,1.0],\"title\":{\"text\":\"x\"}},\"yaxis\":{\"anchor\":\"x\",\"domain\":[0.0,1.0],\"title\":{\"text\":\"y\"}},\"legend\":{\"tracegroupgap\":0},\"margin\":{\"t\":60},\"shapes\":[{\"fillcolor\":\"rgb(214, 249, 207)\",\"line\":{\"color\":\"rgb(214, 249, 207)\"},\"opacity\":0.3,\"type\":\"rect\",\"x0\":0,\"x1\":0.33,\"xref\":\"x\",\"y0\":0,\"y1\":0.127,\"yref\":\"y\"},{\"fillcolor\":\"rgb(124, 191, 115)\",\"line\":{\"color\":\"rgb(124, 191, 115)\"},\"opacity\":0.3,\"type\":\"rect\",\"x0\":0,\"x1\":0.33,\"xref\":\"x\",\"y0\":0,\"y1\":-0.127,\"yref\":\"y\"},{\"fillcolor\":\"rgb(7, 138, 78)\",\"line\":{\"color\":\"rgb(7, 138, 78)\"},\"opacity\":0.3,\"type\":\"rect\",\"x0\":0,\"x1\":-0.27,\"xref\":\"x\",\"y0\":0,\"y1\":-0.127,\"yref\":\"y\"},{\"fillcolor\":\"rgb(25, 75, 49)\",\"line\":{\"color\":\"rgb(25, 75, 49)\"},\"opacity\":0.3,\"type\":\"rect\",\"x0\":0,\"x1\":-0.27,\"xref\":\"x\",\"y0\":0,\"y1\":0.127,\"yref\":\"y\"}],\"annotations\":[{\"showarrow\":false,\"text\":\"costumer service\",\"x\":-0.13102847583320268,\"xref\":\"x\",\"y\":-0.0682616021578071,\"yref\":\"y\"},{\"showarrow\":false,\"text\":\"safety\",\"x\":-0.2311672684714139,\"xref\":\"x\",\"y\":0.0863471184497591,\"yref\":\"y\"},{\"showarrow\":false,\"text\":\"app\",\"x\":0.051437870740003944,\"xref\":\"x\",\"y\":-0.06058463276757595,\"yref\":\"y\"},{\"showarrow\":false,\"text\":\"BNPL\",\"x\":0.1756642453859604,\"xref\":\"x\",\"y\":-0.009588029851268451,\"yref\":\"y\"},{\"showarrow\":false,\"text\":\"interest rates\",\"x\":-0.15026696237126919,\"xref\":\"x\",\"y\":0.05443172610766023,\"yref\":\"y\"},{\"showarrow\":false,\"text\":\"rewards program\",\"x\":-0.16329785519418064,\"xref\":\"x\",\"y\":0.025978487380120666,\"yref\":\"y\"},{\"showarrow\":false,\"text\":\"easy in improving credit score\",\"x\":0.0340689951410451,\"xref\":\"x\",\"y\":-0.03249445535373204,\"yref\":\"y\"},{\"ax\":-135,\"axref\":\"pixel\",\"ay\":50,\"ayref\":\"pixel\",\"showarrow\":true,\"text\":\"easy in improving credit score of child added\",\"x\":0.27500641343318083,\"xref\":\"x\",\"y\":0.10996846302406012,\"yref\":\"y\"},{\"ax\":30,\"axref\":\"pixel\",\"ay\":50,\"ayref\":\"pixel\",\"showarrow\":true,\"text\":\"educational tools to improve credit scores\",\"x\":0.1373830371698762,\"xref\":\"x\",\"y\":-0.05709707483121643,\"yref\":\"y\"}],\"title\":{\"text\":\"PCA of Preference Distributions\"}},                        {\"responsive\": true}                    ).then(function(){\n",
              "                            \n",
              "var gd = document.getElementById('258cb06c-96dc-4b60-b87f-50f00665f07d');\n",
              "var x = new MutationObserver(function (mutations, observer) {{\n",
              "        var display = window.getComputedStyle(gd).display;\n",
              "        if (!display || display === 'none') {{\n",
              "            console.log([gd, 'removed!']);\n",
              "            Plotly.purge(gd);\n",
              "            observer.disconnect();\n",
              "        }}\n",
              "}});\n",
              "\n",
              "// Listen for the removal of the full notebook cells\n",
              "var notebookContainer = gd.closest('#notebook-container');\n",
              "if (notebookContainer) {{\n",
              "    x.observe(notebookContainer, {childList: true});\n",
              "}}\n",
              "\n",
              "// Listen for the clearing of the current output cell\n",
              "var outputEl = gd.closest('.output');\n",
              "if (outputEl) {{\n",
              "    x.observe(outputEl, {childList: true});\n",
              "}}\n",
              "\n",
              "                        })                };                            </script>        </div>\n",
              "</body>\n",
              "</html>"
            ]
          },
          "metadata": {}
        }
      ]
    },
    {
      "cell_type": "markdown",
      "source": [
        "# sixth: joyplot"
      ],
      "metadata": {
        "id": "oSsugAZinU-E"
      }
    },
    {
      "cell_type": "code",
      "source": [
        "stackedJoy.loc[stackedJoy['separator']=='easy in improving credit score of child added','separator']='1. easy in improving credit score of child added'\n",
        "stackedJoy.loc[stackedJoy['separator']=='BNPL','separator']='2. BNPL'\n",
        "stackedJoy.loc[stackedJoy['separator']=='educational tools to improve credit scores','separator']='3. educational tools to improve credit scores'\n",
        "stackedJoy.loc[stackedJoy['separator']=='app','separator']='4. app'\n",
        "stackedJoy.loc[stackedJoy['separator']=='easy in improving credit score','separator']='5. easy in improving credit score'\n",
        "stackedJoy.loc[stackedJoy['separator']=='costumer service','separator']='6. costumer service'\n",
        "stackedJoy.loc[stackedJoy['separator']=='interest rates','separator']='7. interest rates'\n",
        "stackedJoy.loc[stackedJoy['separator']=='rewards program','separator']='8. rewards program'\n",
        "stackedJoy.loc[stackedJoy['separator']=='safety','separator']='9. safety'"
      ],
      "metadata": {
        "id": "SX7h0WojG00q"
      },
      "execution_count": 45,
      "outputs": []
    },
    {
      "cell_type": "code",
      "source": [
        "stackedJoy['group']=1\n",
        "\n",
        "stackedJoy.loc[stackedJoy['separator']=='2. BNPL','group']=2\n",
        "stackedJoy.loc[stackedJoy['separator']=='3. educational tools to improve credit scores','group']=2\n",
        "stackedJoy.loc[stackedJoy['separator']=='4. app','group']=2\n",
        "stackedJoy.loc[stackedJoy['separator']=='5. easy in improving credit score','group']=2\n",
        "\n",
        "stackedJoy.loc[stackedJoy['separator']=='6. costumer service','group']=3\n",
        "\n",
        "stackedJoy.loc[stackedJoy['separator']=='7. interest rates','group']=4\n",
        "stackedJoy.loc[stackedJoy['separator']=='8. rewards program','group']=4\n",
        "stackedJoy.loc[stackedJoy['separator']=='9. safety','group']=4\n"
      ],
      "metadata": {
        "id": "jUtq-abUJAir"
      },
      "execution_count": 46,
      "outputs": []
    },
    {
      "cell_type": "code",
      "source": [
        "!pip install cmocean"
      ],
      "metadata": {
        "colab": {
          "base_uri": "https://localhost:8080/"
        },
        "id": "sbIn9uVfR2LE",
        "outputId": "1c5726e2-7125-41c3-d334-5e8500cc01df"
      },
      "execution_count": 47,
      "outputs": [
        {
          "output_type": "stream",
          "name": "stdout",
          "text": [
            "Requirement already satisfied: cmocean in /usr/local/lib/python3.7/dist-packages (2.0)\n"
          ]
        }
      ]
    },
    {
      "cell_type": "code",
      "source": [
        "import matplotlib\n",
        "norm = plt.Normalize(stackedJoy[\"group\"].min(), stackedJoy[\"group\"].max())\n",
        "import cmocean\n",
        "\n",
        "ar=np.array([4,3,3,3,3,2,1.3,1.3,1.3])\n",
        "original_cmap2 = cmocean.cm.speed\n",
        "cmap = matplotlib.colors.ListedColormap(original_cmap2(norm(ar)))"
      ],
      "metadata": {
        "id": "gbholcttkfhT"
      },
      "execution_count": 48,
      "outputs": []
    },
    {
      "cell_type": "code",
      "source": [
        "joyplot(stackedJoy, by = 'separator', column = 'intensity',colormap=cmap,\n",
        "        \n",
        "        range_style='own', figsize = (13,10),\n",
        "        title = 'Distribution of Preferences Based on Features',\n",
        "        overlap = 4)\n",
        "plt.show()"
      ],
      "metadata": {
        "colab": {
          "base_uri": "https://localhost:8080/",
          "height": 710
        },
        "id": "GbapNj8IqNpM",
        "outputId": "ec043c82-52bb-4a52-a927-e7dbdd99e3ee"
      },
      "execution_count": 49,
      "outputs": [
        {
          "output_type": "display_data",
          "data": {
            "text/plain": [
              "<Figure size 936x720 with 10 Axes>"
            ],
            "image/png": "[encoded data removed]"
          },
          "metadata": {
            "needs_background": "light"
          }
        }
      ]
    }
  ]
}